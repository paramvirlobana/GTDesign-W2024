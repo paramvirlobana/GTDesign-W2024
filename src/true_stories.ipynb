{
 "cells": [
  {
   "cell_type": "code",
   "execution_count": 17,
   "metadata": {},
   "outputs": [],
   "source": [
    "import numpy\n",
    "import numpy as np\n",
    "import math\n",
    "import pandas as pd\n",
    "from gt_design import *"
   ]
  },
  {
   "cell_type": "markdown",
   "metadata": {},
   "source": [
    "#### Given Values"
   ]
  },
  {
   "cell_type": "code",
   "execution_count": 11,
   "metadata": {},
   "outputs": [],
   "source": [
    "mechanical_eff = 0.99\n",
    "gamma_air = 1.4\n",
    "gamma_g = 1.33333\n",
    "c_p_air = 1.005\n",
    "c_p_gas = 1.148\n",
    "R = 0.287\n",
    "\n",
    "m_cool_vane_hpt = 0.1450776\n",
    "m_cool_disc_hpt = 0.0797\n",
    "\n",
    "# TURBINE INLET\n",
    "T_01 = 1245.320         # [k]\n",
    "P_01 = 1182.073         # [kPa]\n",
    "m_dot_1 = 4.835922\n",
    "M_1 = 0.125\n",
    "\n",
    "# BETWEEN STATOR AND ROTOR\n",
    "m_dot_2 = m_dot_1 + m_cool_vane_hpt\n",
    "\n",
    "# TURBINE EXIT\n",
    "T_03 = 1053.051\n",
    "P_03 = 524.594\n",
    "m_dot_3 = m_dot_2 + m_cool_disc_hpt\n",
    "\n",
    "# BLADE PARAMETERS\n",
    "# VANE\n",
    "AR_vane = 0.5\n",
    "TE_vane = 1.27/1000     # minimum trailing edge thickness in [m]\n",
    "# BLADE\n",
    "AR_rotor = 1.3\n",
    "TE_rotor = 0.762/1000   # minimum trailing edge thickness in [m]\n",
    "tip_clearance = 0.01    # minimum tip clearance span -> maximum is 0.02"
   ]
  },
  {
   "cell_type": "markdown",
   "metadata": {},
   "source": [
    "## Define Ranges\n",
    "\n",
    "Define the range for the stage loading coefficient, flow coefficient and the reaction. Using the obtained values, calculate the other values.\n",
    "\n",
    "Use the following data:\n",
    "1. Reaction ($\\Lambda$) -> 0.35 - 0.65\n",
    "2. Flow Coefficient ($\\phi$) -> 0.6 - 1.0\n",
    "3. Structural Limit ($AN^2$) -> 10000000 - 22580600 (checking for a wide range)\n",
    "4. Zweifel for vane -> 0.75 - 0.90\n",
    "5. Zweifel for rotor -> 0.80 - 0.95"
   ]
  },
  {
   "cell_type": "code",
   "execution_count": 12,
   "metadata": {},
   "outputs": [],
   "source": [
    "range_degree_reaction = numpy.linspace(0.35, 0.65, 10)\n",
    "range_stage_loading = numpy.linspace(3, 5, 10)\n",
    "range_alpha_3 = numpy.linspace(10, 45, 10)\n",
    "range_AN_squared = numpy.linspace(15000000, 22580600, 3)\n",
    "range_zweifel_vane = numpy.linspace(0.75, 0.90, 15)\n",
    "range_zweifel_rotor = numpy.linspace(0.80, 0.95, 15)\n",
    "range_mach_exit = numpy.linspace(0.3, 0.55, 12)"
   ]
  },
  {
   "cell_type": "markdown",
   "metadata": {},
   "source": [
    "## int main(){}"
   ]
  },
  {
   "cell_type": "code",
   "execution_count": 13,
   "metadata": {},
   "outputs": [],
   "source": [
    "data = []\n",
    "\n",
    "for i in range_mach_exit:\n",
    "    for j in range_stage_loading:\n",
    "        for k in range_alpha_3:\n",
    "            for l in range_degree_reaction:\n",
    "                for m in range_AN_squared:\n",
    "                    #for n in range_zweifel_vane:\n",
    "                    T_1, P_1, rho_1, C_1 = aeroturbine.calc_properties(M_1, T_01, P_01)\n",
    "                    C_a_1 = C_1 * np.cos(np.radians(-10))\n",
    "                    T_3, P_3, rho_3, C_3 = aeroturbine.calc_properties(i, T_03, P_03)\n",
    "\n",
    "                    # Calculate U from the stage loading.\n",
    "                    U = aeroturbine.calc_U(j)\n",
    "                    C_a_3, C_w_3,  V_3, V_w_3, flow_coefficient_3, beta_3, a_3, M_3_rel, A_3 = aeroturbine.calc_stage_3(U, k, C_3, T_3, rho_3)\n",
    "                    T_2, P_2, rho_2, A_2, C_a_2, flow_coefficient_2, a_2, V_w_2, beta_2, V_2, C_w_2, C_2, alpha_2, M_2, M_2_rel = aeroturbine.calc_stage_2(U, l, T_1, T_3, P_3, A_3, V_w_3)\n",
    "                    \n",
    "                    A_1 = m_dot_1/(rho_1 * C_a_1)\n",
    "                    N, omega, r_hub, r_tip, r_meanline, h = aerostructural.calc_structural(m, A_2, U)\n",
    "\n",
    "                    alpha_2_hub, alpha_3_hub, beta_2_hub, beta_3_hub, U_hub, V_2_hub, C_2_hub, M_2_rel_hub, M_2_hub = aeroturbine.calc_hub_angles(r_meanline, r_hub, alpha_2, k, flow_coefficient_2, flow_coefficient_3, U, C_a_2, a_2)\n",
    "                    alpha_2_tip, alpha_3_tip, beta_2_tip, beta_3_tip, U_tip, V_2_tip, C_2_tip, M_2_rel_tip, M_2_tip = aeroturbine.calc_tip_angles(r_meanline, r_tip, alpha_2, k, flow_coefficient_2, flow_coefficient_3, U, C_a_2, a_2)\n",
    "                    reaction_hub, reaction_tip = aeroturbine.calc_tip_hub_reaction(C_a_3, C_a_2 ,beta_2_hub, beta_2_tip, beta_3_hub, beta_3_tip, U_hub, U_tip)   \n",
    "\n",
    "                    if V_3 > V_2 and C_2 > C_1 and rho_3 < rho_2 < rho_1: # Velocity check, density check and omega check _>\n",
    "                        # Other value checks from the design requirements _>\n",
    "                        if 144 <= C_3 <= 339 and 190 <= C_a_3 <= 202 and 40 <= alpha_2 <= 75 and reaction_hub > 0 and M_2_rel_hub > M_2_rel_tip and 3076 < omega < 4754:\n",
    "                            if 0 < alpha_2_tip < alpha_2 < alpha_2_hub and 0 < beta_2_tip < beta_2 < beta_2_hub and 0 < alpha_3_tip < k < alpha_3_hub and beta_3_tip > beta_3 > beta_3_hub > 0:\n",
    "\n",
    "                                # OFF DESIGN CALCULATIONS\n",
    "                                rho_3_od, T_3_od, P_3_od, alpha_3_od, flow_coeff_2_od, incidence_2, v_2_od, alpha_3_rel_od, C_w_3_od, C_a_3_od, U_mean_od, flow_coeff_3_od = off_design.calc_off_design(omega, r_meanline, C_a_2, C_w_2, beta_2, beta_3,A_3)\n",
    "\n",
    "                                if flow_coeff_3_od > flow_coeff_2_od:\n",
    "\n",
    "                                    # CALCULATE LOSSES\n",
    "                                    K_p, pitch_chord_ratio, K_accel, stagger_angle, pitch_axial_chord_ratio =  aerodynamic_losses.profile_losses.calc_K_p(M_2_rel, M_3_rel, M_2_rel_hub, P_2, P_3, r_tip, r_hub,  beta_2, beta_3, 0.80)\n",
    "\n",
    "                                    # Calculations for throat opening\n",
    "                                    c_true = (h)/AR_rotor\n",
    "                                    c_a = (h * np.cos(np.radians(stagger_angle)))/AR_rotor\n",
    "                                    N_rotor = math.floor((2 * np.pi * r_meanline) /(pitch_axial_chord_ratio * c_a))\n",
    "                                    o_rotor = (pitch_axial_chord_ratio * c_a) * np.sin(np.radians(beta_3))\n",
    "                                    K_s = aerodynamic_losses.secondary_losses.calc_K_s(K_accel, AR_rotor, beta_2, beta_3)\n",
    "                                    K_TET, r_to_o, f = aerodynamic_losses.trailing_edge_losses.K_TET(o_rotor, M_2_rel, beta_2, beta_3)\n",
    "                                    K = K_p + K_s + K_TET\n",
    "\n",
    "\n",
    "\n",
    "                                    data.append((j, l, T_1, P_1, rho_1, A_1, C_1, C_a_1, i, T_3, P_3, rho_3, C_3, k, U,\n",
    "                                                C_a_3, C_w_3,  V_3, V_w_3, flow_coefficient_3, beta_3, a_3, M_3_rel, A_3,\n",
    "                                                T_2, P_2, rho_2, A_2, C_a_2, flow_coefficient_2, a_2, V_w_2, beta_2, V_2, C_w_2, C_2, alpha_2, M_2, M_2_rel,\n",
    "                                                N, omega, r_hub, r_tip, r_meanline, h,\n",
    "                                                alpha_2_hub, alpha_3_hub, beta_2_hub, beta_3_hub, U_hub, V_2_hub, C_2_hub, M_2_rel_hub, M_2_hub,\n",
    "                                                alpha_2_tip, alpha_3_tip, beta_2_tip, beta_3_tip, U_tip, V_2_tip, C_2_tip, M_2_rel_tip, M_2_tip,\n",
    "                                                reaction_hub, reaction_tip, N_rotor,\n",
    "                                                K_p,  pitch_chord_ratio, K_accel, o_rotor,c_a,c_true,\n",
    "                                                K_s, K_TET,r_to_o, f,\n",
    "                                                K,\n",
    "                                                rho_3_od, T_3_od, P_3_od, alpha_3_od, flow_coeff_2_od, incidence_2, v_2_od, alpha_3_rel_od, C_w_3_od, C_a_3_od, U_mean_od, flow_coeff_3_od))\n",
    "\n",
    "                    else:\n",
    "                        print(\"Check your code!!\")\n",
    "                        break\n",
    "\n",
    "\n",
    "df = pd.DataFrame(data, columns = ['stage_loading','reaction_mean','T_1', 'P_1', 'rho_1', 'A_1','C_1', 'C_a_1','M_3','T_3','P_3', 'rho_3', 'C_3', 'alpha_3','U',\n",
    "                                   'C_a_3', 'C_w_3',  'V_3', 'V_w_3', 'flow_coefficient_3', 'beta_3', 'a_3', 'M_3_rel', 'A_3',\n",
    "                                   'T_2', 'P_2', 'rho_2', 'A_2', 'C_a_2', 'flow_coefficient_2', 'a_2', 'V_w_2', 'beta_2', 'V_2', 'C_w_2', 'C_2', 'alpha_2', 'M_2', 'M_2_rel',\n",
    "                                   'N', 'omega', 'r_hub', 'r_tip', 'r_meanline', 'h',\n",
    "                                   'alpha_2_hub', 'alpha_3_hub', 'beta_2_hub', 'beta_3_hub', 'U_hub', 'V_3_hub', 'C_2_hub', 'M_2_rel_hub', 'M_2_hub',\n",
    "                                   'alpha_2_tip', 'alpha_3_tip', 'beta_2_tip', 'beta_3_tip', 'U_tip', 'V_3_tip', 'C_2_tip', 'M_2_rel_tip', 'M_2_tip',\n",
    "                                   'reaction_hub', 'reaction_tip', 'N_rotor',\n",
    "                                   'K_p',  'pitch_chord_ratio', 'K_accel', 'o_rotor', 'c_a', 'c_true',\n",
    "                                   'K_s', 'K_TET', 'r_to_o', 'f' ,\n",
    "                                   'K',\n",
    "                                   'rho_3_od', 'T_3_od', 'P_3_od', 'alpha_3_od', 'flow_coeff_2_od', 'incidence_2', 'v_2_od', 'alpha_3_rel_od', 'C_w_3_od', 'C_a_3_od', 'U_mean_od', 'flow_coeff_3_od'])\n"
   ]
  },
  {
   "cell_type": "markdown",
   "metadata": {},
   "source": [
    "Splitting the main dataframe"
   ]
  },
  {
   "cell_type": "code",
   "execution_count": 15,
   "metadata": {},
   "outputs": [],
   "source": [
    "df_losses_meanline = df[['K_p',  'pitch_chord_ratio', 'K_accel', 'o_rotor', 'c_a', 'c_true','K_s', 'K_TET', 'r_to_o', 'f' ,'K']]\n",
    "df_off_design = df[['rho_3_od', 'T_3_od', 'P_3_od', 'alpha_3_od', 'flow_coeff_2_od', 'incidence_2', 'v_2_od', 'alpha_3_rel_od', 'C_w_3_od', 'C_a_3_od', 'U_mean_od', 'flow_coeff_3_od']]"
   ]
  },
  {
   "cell_type": "markdown",
   "metadata": {},
   "source": [
    "Write results to file"
   ]
  },
  {
   "cell_type": "code",
   "execution_count": 16,
   "metadata": {},
   "outputs": [],
   "source": [
    "df.to_csv('_outputs/output.csv', index=False)\n",
    "df_losses_meanline.to_csv('_outputs/output_losses_meanline.csv', index=False)\n",
    "df_off_design.to_csv('_outputs/output_off_design.csv', index=False)"
   ]
  }
 ],
 "metadata": {
  "kernelspec": {
   "display_name": "base",
   "language": "python",
   "name": "python3"
  },
  "language_info": {
   "codemirror_mode": {
    "name": "ipython",
    "version": 3
   },
   "file_extension": ".py",
   "mimetype": "text/x-python",
   "name": "python",
   "nbconvert_exporter": "python",
   "pygments_lexer": "ipython3",
   "version": "3.11.5"
  }
 },
 "nbformat": 4,
 "nbformat_minor": 2
}
