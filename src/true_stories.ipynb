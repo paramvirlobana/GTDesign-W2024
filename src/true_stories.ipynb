{
 "cells": [
  {
   "cell_type": "code",
   "execution_count": 70,
   "metadata": {},
   "outputs": [],
   "source": [
    "import numpy\n",
    "import pandas as pd\n",
    "import matplotlib.pyplot as plt\n",
    "from scipy.interpolate import interp1d\n",
    "import seaborn as sns"
   ]
  },
  {
   "cell_type": "markdown",
   "metadata": {},
   "source": [
    "# **True Stories**"
   ]
  },
  {
   "cell_type": "markdown",
   "metadata": {},
   "source": [
    "## General Properties"
   ]
  },
  {
   "cell_type": "code",
   "execution_count": 71,
   "metadata": {},
   "outputs": [],
   "source": [
    "mechanical_eff = 0.99\n",
    "gamma_air = 1.4\n",
    "gamma_g = 1.33333\n",
    "c_p_air = 1.005\n",
    "c_p_gas = 1.148\n",
    "R = 287"
   ]
  },
  {
   "cell_type": "code",
   "execution_count": 72,
   "metadata": {},
   "outputs": [],
   "source": [
    "#%%capture\n",
    "#%run -i -t 01_cycle_calculations.ipynb\n",
    "#%store -r m_turbine\n",
    "#%store -r m_cool_vane_hpt\n",
    "\n",
    "m_turbine = 4.835922\n",
    "m_cool_vane_hpt = 0.1450776"
   ]
  },
  {
   "cell_type": "code",
   "execution_count": 73,
   "metadata": {},
   "outputs": [],
   "source": [
    "T_1 = 1241.77\n",
    "P_1 = 1170\n",
    "T_3 = 1021\n",
    "P_3 = 496.6\n",
    "R = 0.287\n",
    "\n",
    "rho1 = P_1/(T_1 * R)\n",
    "rho3 = P_3/(R * T_3)\n",
    "\n",
    "C_1 = 0.125 * numpy.sqrt(gamma_g * R*1000 *  T_1)\n",
    "C_a_1 = numpy.cos(numpy.radians(10)) * C_1\n",
    "\n",
    "m_dot_1 = m_turbine            # turbine inlet mass flow rate\n",
    "m_dot_2 = m_turbine + m_cool_vane_hpt"
   ]
  },
  {
   "cell_type": "markdown",
   "metadata": {},
   "source": [
    "## Define Ranges\n",
    "\n",
    "Define the range for the stage loading coefficient, flow coefficient and the reaction. Using the obtained values, calculate the other values.\n",
    "\n",
    "Use the following data:\n",
    "1. Stage Loading Coefficient ($\\psi$) -> 3.0 - 5.0\n",
    "2. Reaction ($\\Lambda$) -> 0.35 - 0.65\n",
    "3. Flow Coefficient ($\\phi$) -> 0.6 - 1.0\n",
    "4. Structural Limit ($AN^2$) -> 10000000 - 22580600 (checking for a wide range)\n",
    "5. $U_{hub, \\; max}$ -> 335/2 - 335"
   ]
  },
  {
   "cell_type": "code",
   "execution_count": 74,
   "metadata": {},
   "outputs": [],
   "source": [
    "range_flow_coefficient_5 = numpy.linspace(0.4, 0.7, 40)\n",
    "range_degree_reaction = numpy.linspace(0.35, 0.6, 40)\n",
    "range_stage_loading = numpy.linspace(3, 5, 40)\n",
    "#range_stage_loading = numpy.linspace(4.21, 4.2, 1)\n",
    "range_AN_squared = numpy.linspace(10000000, 22580600, 10)\n",
    "range_U_hub_max = numpy.linspace(335/2, 335, 10)"
   ]
  },
  {
   "cell_type": "markdown",
   "metadata": {},
   "source": [
    "## General Approach Functions\n",
    "The following approach is used ->\n",
    "1. Calculate beta_3 and alpha_3 based on reaction, flow coefficient and stage loading.\n",
    "2. Calculating U for all the flow coefficients.\n",
    "3. Calculate the exit axial and absolute velocities, while eliminating the values not needed."
   ]
  },
  {
   "cell_type": "code",
   "execution_count": 75,
   "metadata": {},
   "outputs": [],
   "source": [
    "def calc_angles(reaction, psi, phi):\n",
    "    \"\"\"\n",
    "    This function calculates the angles obtained.\n",
    "    Input: Degree of reaction \"lambda\", flow coefficient \"phi\", blade loading coefficient \"psi\"\n",
    "    Output: Returns the value of the exit swirl angle.\n",
    "    \"\"\"\n",
    "    tan_beta_3 = (0.5 / phi) * (0.5 * psi + 2 * reaction)\n",
    "    alpha_3 = numpy.rad2deg(numpy.arctan(tan_beta_3 - (phi**(-1))))\n",
    "    return alpha_3\n",
    "\n",
    "def calc_U(psi):\n",
    "    \"\"\"\n",
    "    This function calculates the metal speed U.\n",
    "    Input:  Stage loading coefficient \"psi\"\n",
    "    Output: Returns the value of U\n",
    "    \"\"\"\n",
    "    U = numpy.sqrt((2*212000) / (psi)) \n",
    "    return U\n",
    "\n",
    "def calc_absolute_exit_velocity(angle_pointer, vel_axial):\n",
    "    \"\"\"\n",
    "    This function calculates the absolute exit velocity.\n",
    "    Input:  Exit swirl angle \"alpha_3\", absolute exit velocity \"c_5\"\n",
    "    Output: Returns the absolute exit axial velocity \"c_a_5\"\n",
    "    \"\"\"\n",
    "    c_abs = vel_axial/(numpy.cos(numpy.radians(angle_pointer)))\n",
    "    return c_abs\n",
    "\n",
    "def calc_stage_2(psi_pointer, phi_pointer, alpha_pointer, axial_vel_pointer):\n",
    "    \"\"\"\n",
    "    This function calculates the gas and metal angles between the vane and the rotor.\n",
    "    Input:  Flow coefficient \"phi\", blade loading coefficient \"psi\", Exit swirl angle \"alpha_3\"\n",
    "    Output: Returns the gas and metal angles \"alpha_2\" and \"beta_2\", tangential velocity \"c_w_2\", relative velocity \"v_2\" and absolute velocity \"c_2\"\n",
    "    \"\"\"\n",
    "    alpha_2 = numpy.rad2deg(numpy.arctan((psi_pointer/(2 * phi_pointer)) - numpy.tan(numpy.radians(alpha_pointer))))\n",
    "    beta_2 = numpy.rad2deg(numpy.arctan(numpy.tan(numpy.radians(alpha_2)) - phi_pointer**(-1)))\n",
    "    c_w_2 = axial_vel_pointer * numpy.tan(numpy.radians(alpha_2))\n",
    "    v__ = axial_vel_pointer/(numpy.cos(numpy.radians(beta_2)))\n",
    "    c__ = axial_vel_pointer/(numpy.cos(numpy.radians(alpha_2)))\n",
    "    return alpha_2, beta_2, c_w_2, v__, c__\n",
    "\n",
    "def calc_areas(C_a_3):\n",
    "    \"\"\"\n",
    "    Calculate areas based on different flow coefficients\n",
    "    \"\"\"\n",
    "    A1 = m_dot_1/(rho1 * C_a_1)\n",
    "    A3 = m_dot_2 /(rho3 * C_a_3)\n",
    "    A2 = A3\n",
    "    return A1, A2, A3\n",
    "\n",
    "def calc_structural(an_squared_pointer, area_2_pointer, U_hub_max_pointer):\n",
    "    N = numpy.sqrt((an_squared_pointer)/area_2_pointer)\n",
    "    omega = N*2*numpy.pi/60\n",
    "    r_hub = U_hub_max_pointer/omega\n",
    "    r_tip = numpy.sqrt((area_2_pointer)/numpy.pi + r_hub**2)\n",
    "    h = r_tip - r_hub\n",
    "    return N, omega, r_hub, r_tip, h\n"
   ]
  },
  {
   "cell_type": "markdown",
   "metadata": {},
   "source": [
    "Once the shaft the speed is delivered by the the compressor work pack, the value of U can be decided and filtered out."
   ]
  },
  {
   "cell_type": "markdown",
   "metadata": {},
   "source": [
    "## Area and Blade Height"
   ]
  },
  {
   "cell_type": "markdown",
   "metadata": {},
   "source": [
    "\n",
    "#### Free Vortex"
   ]
  },
  {
   "cell_type": "code",
   "execution_count": 76,
   "metadata": {},
   "outputs": [],
   "source": [
    "def calc_free_vortex(r_pointer, U_pointer, psi_pointer, phi_pointer, C_a_3_pointer):\n",
    "    A1, A2, A3 = calc_areas(C_a_3_pointer)\n",
    "    T2_temp = T_3 + r_pointer *(T_1-T_3)\n",
    "    P2_temp = P_3 * (T2_temp/T_3)**(gamma_g/(gamma_g-1))\n",
    "    rho2_temp = P2_temp/(R*T2_temp) \n",
    "    C_a_45 = m_dot_2/(rho2_temp*A2)\n",
    " \n",
    "    flow_coefficient_2 = C_a_45/U_pointer\n",
    "    beta_3 = numpy.rad2deg(numpy.arctan(0.5/phi_pointer*(0.5*psi_pointer+2*r_pointer)))\n",
    "    beta_2 = numpy.rad2deg(numpy.arctan(0.5/phi_pointer*(0.5*psi_pointer-2*r_pointer)))\n",
    "\n",
    "    # This is for alpha_2 -> between rotor and stator\n",
    "    C2 = numpy.sqrt(C_a_45**2 + (C_a_45 * numpy.tan(numpy.radians(beta_2)) + U_pointer)**2)\n",
    "    alpha_2 = numpy.rad2deg(numpy.arctan((C_a_45 * numpy.tan(numpy.radians(beta_2)) + U_pointer)/C_a_45))\n",
    "    V2 = C_a_45 /(numpy.cos(numpy.radians(beta_2)))\n",
    "    \n",
    "    # This is for alpha_2 -> between rotor and stator\n",
    "    C3 = numpy.sqrt(C_a_3_pointer**2 + (C_a_3_pointer * numpy.tan(numpy.radians(beta_3)) - U_pointer)**2)\n",
    "    alpha_3 = numpy.rad2deg(numpy.arctan((C_a_3_pointer * numpy.tan(numpy.radians(beta_3)) - U_pointer)/C_a_3_pointer))\n",
    "    V3 = C_a_3_pointer /(numpy.cos(numpy.radians(beta_3)))\n",
    "\n",
    "    return A1, A2, A3, flow_coefficient_2, C2, V2, alpha_2, beta_2, C3, V3, alpha_3, beta_3"
   ]
  },
  {
   "cell_type": "markdown",
   "metadata": {},
   "source": [
    "#### Area Calculatations\n",
    "These are based on the use of values given for structural limit.\n",
    "$$r_{tip} = \\sqrt{\\frac{A}{\\pi} + r_{hub}^2}$$"
   ]
  },
  {
   "cell_type": "markdown",
   "metadata": {},
   "source": [
    "## Aerodynamic Losses"
   ]
  },
  {
   "cell_type": "code",
   "execution_count": 77,
   "metadata": {},
   "outputs": [],
   "source": [
    "class get_losses():\n",
    "    \"\"\"\n",
    "    This class will be used to obtain values from different charts using interpolation and machine learning.\n",
    "    \"\"\"\n",
    "    def figure_2_6(x_value, x=True):\n",
    "        \"\"\"\n",
    "        x = True for Rotor\n",
    "        \"\"\"\n",
    "        fig_2_6 = pd.read_csv(r'_input_database\\figure_2_6.csv')\n",
    "        rhrt = fig_2_6['x'].values\n",
    "        y1 = fig_2_6['Rotor'].values\n",
    "        y2 = fig_2_6['Nozzle'].values\n",
    "\n",
    "        if x == True:\n",
    "            interp_func = interp1d(rhrt, y1, kind='cubic')\n",
    "            interpolated_y = interp_func(x_value)\n",
    "        else:\n",
    "            interp_func = interp1d(rhrt, y2, kind='cubic')\n",
    "            interpolated_y = interp_func(x_value)\n",
    "        \n",
    "        return interpolated_y\n",
    "\n",
    "    def figure_2_7(x_value):\n",
    "\n",
    "        fig_2_7 = pd.read_csv(r'_input_database\\figure_2_7.csv')\n",
    "        x = fig_2_7['M_1_hub'].values\n",
    "        y = fig_2_7['delta_p_q_1_hub'].values\n",
    "\n",
    "        interp_func = interp1d(x, y, kind='cubic')\n",
    "        interpolated_y = interp_func(x_value)\n",
    "        \n",
    "        return interpolated_y\n",
    "\n",
    "\n",
    "\"\"\"\n",
    "The following section give information about the symbols to be used for the following class.\n",
    "This is established from the information provided in Axial and Radial Turbines Part A - Moustapha.\n",
    "\"\"\"\n",
    "def calc_K(M_1, M_2):\n",
    "    \"\"\"\n",
    "    Using corrected effects of exit mach number.\n",
    "    Function used to determine K_accel.\n",
    "    Equation (2.7), (2.8)\n",
    "    \"\"\"\n",
    "    #def get_eq_2_5():\n",
    "\n",
    "    kdf = 1\n",
    "    # A = get_losses.\n",
    "    C = 1 - ((1 + ((k - 1) / (2)) * M_1**2)**(k/(k - 1)))\n",
    "    D = 1 - ((1 + ((k - 1) / (2)) * M_2**2)**(k/(k - 1)))\n",
    "    #K_sh = A * B * C * D\n",
    "    # K_accel ==============\n",
    "    if M_2 <= 0.2:\n",
    "        K_1 = 1.0\n",
    "    if M_2 > 0.2:\n",
    "        K_1 = 1 - 0.25 * (M_2 - 0.2)\n",
    "    K_2 = (M_1/M_2)**2\n",
    "\n",
    "    K_accel = 1 - K_2 * (1 - K_1)\n",
    "\n",
    "    return K_accel"
   ]
  },
  {
   "cell_type": "markdown",
   "metadata": {},
   "source": [
    "# True Stories\n",
    "This is the final run cell for all calculations."
   ]
  },
  {
   "cell_type": "code",
   "execution_count": 78,
   "metadata": {},
   "outputs": [],
   "source": [
    "data = []\n",
    "\n",
    "for i in range_degree_reaction:\n",
    "    for j in range_stage_loading:\n",
    "        for k in range_flow_coefficient_5:\n",
    "            for l in range_AN_squared:      # Structural limit\n",
    "                for m in range_U_hub_max:   # trial value for hub radius\n",
    "\n",
    "\n",
    "                    exit_swirl_angle_alpha = calc_angles(i, j, k)\n",
    "                    U_calculated = calc_U(j)\n",
    "                    c_a_5 = k * U_calculated\n",
    "                    c_5 = calc_absolute_exit_velocity(exit_swirl_angle_alpha, c_a_5)\n",
    "                    A1, A2, A3, flow_coefficient_2, C2, V2, alpha_2, beta_2, C3, V3, alpha_3, beta_3 = calc_free_vortex(i, U_calculated, j, k, c_a_5)\n",
    "                    M_exit = c_5 / numpy.sqrt(gamma_g * R *1000* T_3)\n",
    "\n",
    "                    # Using the AN^2 for the calculations\n",
    "                    N, omega, r_hub, r_tip, h = calc_structural(l, A2, m)\n",
    "                        \n",
    "                    # Add physics check _>\n",
    "\n",
    "                    if V3 > V2 and C2 > C_1: # Velocity check _>\n",
    "                        # Other value checks from the design requirements _>\n",
    "                        if 10 <= exit_swirl_angle_alpha <= 40 and U_calculated <= 335 and 144 <= c_5 <= 339 and 190 <= c_a_5 <= 202 and 40 <= alpha_2 <= 75 and 0.3 <= M_exit <= 0.55 and 3076 <= omega <= 4754:\n",
    "                            data.append((i, j, k, U_calculated, c_a_5, c_5, A1, A2, A3, flow_coefficient_2, C2, V2, alpha_2, beta_2, C3, V3, alpha_3, beta_3, M_exit, l, m, N, omega, r_hub, r_tip, h))\n",
    "                    else:\n",
    "                        print(\"Check your code!!\")\n",
    "                        break\n",
    "\n",
    "df = pd.DataFrame(data, columns = ['reaction','stage_loading','flow_coefficient_exit', 'U',  'c_exit_axial', 'c_absolute', 'A1', 'A2', 'A3', 'flow_coefficient_entry', 'C2', 'V2','alpha_2', 'beta_2', 'C3', 'V3','alpha_3_check_val', 'beta_3', 'M_exit','AN Squared', 'U_hub_max','N', 'omega', 'r_hub',  'r_tip', 'H'])\n",
    "df.to_csv('_outputs/output.csv', index=False)"
   ]
  }
 ],
 "metadata": {
  "kernelspec": {
   "display_name": "base",
   "language": "python",
   "name": "python3"
  },
  "language_info": {
   "codemirror_mode": {
    "name": "ipython",
    "version": 3
   },
   "file_extension": ".py",
   "mimetype": "text/x-python",
   "name": "python",
   "nbconvert_exporter": "python",
   "pygments_lexer": "ipython3",
   "version": "3.10.2"
  }
 },
 "nbformat": 4,
 "nbformat_minor": 2
}
