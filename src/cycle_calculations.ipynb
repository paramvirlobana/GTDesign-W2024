{
 "cells": [
  {
   "cell_type": "code",
   "execution_count": 42,
   "metadata": {},
   "outputs": [],
   "source": [
    "import math\n",
    "import numpy as np"
   ]
  },
  {
   "cell_type": "markdown",
   "metadata": {},
   "source": [
    "#### Define Engine Characteristics"
   ]
  },
  {
   "cell_type": "code",
   "execution_count": 43,
   "metadata": {},
   "outputs": [],
   "source": [
    "# Provided Engine Characteristics\n",
    "mechanical_eff = 0.99\n",
    "gamma = 1.4\n",
    "gamma_g = 1.33333\n",
    "c_p_air = 1.005\n",
    "c_p_gas = 1.148\n",
    "# ENGINE INLET\n",
    "inlet_loss = 0.01           # Inlet pressure loss\n",
    "# ------------------------------------------------------------------------------\n",
    "# Compressor\n",
    "m_dot = 5.21                # [lb/s]\n",
    "lpc_pr = 4                  # LPC PR\n",
    "lpc_eff = 0.865             # LPC Target Efficiency\n",
    "hpc_pr = 3                  # HPC PR\n",
    "hpc_eff = 0.855             # HPC Target Efficiency\n",
    "hpc_bleed_air = 0.09        # HPC Bleed Air (exit)\n",
    "# ------------------------------------------------------------------------------\n",
    "# Combustor\n",
    "AFR = 0.02                  # Fuel to Air Ratio or Air Fuel Ratio (AFR)\n",
    "FHV = 40007.2               # [kJ/kg] Fuel Heating Value (FHV)\n",
    "combustor_eff = 0.99    \n",
    "combustor_loss = 0.018      # Combustor pressure loss\n",
    "RTDF = 0.05                 # Radial Temperature Distribution Factor (RTDF)\n",
    "# ------------------------------------------------------------------------------\n",
    "# Turbine\n",
    "hpt_eff = 0.83              # HPT Target Efficiency->Given range 0.83-0.85\n",
    "hpt_vane_cooling = 0.03     # HPT Vane Cooling Air\n",
    "hpt_disk_cooling = 0.165    # HPT Disk Cooling Air \n",
    "lpt_eff = 0.91              # LPT Target Efficiency\n",
    "hpt_vane_cooling = 0.011    # LPT Vane Cooling Air\n",
    "ITD_loss = 0.006            # ITD? Loss\n",
    "pt_eff = 0.92               # PT Target Efficiency\n",
    "pt_disk_cooling = 0.0125    # PT disk cooling air\n",
    "# ------------------------------------------------------------------------------\n",
    "# Exhaust\n",
    "exhaust_loss = 0.02         # Exhaust Loss\n",
    "exhaust_mach = 0.15         # Exhaust Mach Number"
   ]
  },
  {
   "cell_type": "markdown",
   "metadata": {},
   "source": [
    "#### Functions for calculations"
   ]
  },
  {
   "cell_type": "code",
   "execution_count": 44,
   "metadata": {},
   "outputs": [],
   "source": [
    "def calc_turbine_pressure(P_i, T_03, T_04, eta_turbine):\n",
    "    \"\"\"\n",
    "    This function calculation the exit pressure of a turbine using the isentropic efficiency.\n",
    "    Inputs: P_i, T_03, T_04, eta_turbine\n",
    "    Outputs: P_f\n",
    "\n",
    "    \"\"\"\n",
    "    temp_val_1 = 1.33333/(1.33333 - 1)\n",
    "    temp_val_2 = 1 - ((T_03 - T_04) / (eta_turbine * T_03))\n",
    "    P_f = P_i * (temp_val_2**temp_val_1)\n",
    "    print(P_f)\n",
    "    return P_f\n",
    "\n",
    "def calc_psi(c_p, delta_T_0_s, U):\n",
    "    \"\"\"\n",
    "    This function calculates the blade loading coefficient\n",
    "    ___________\n",
    "    Input: c_p, delta_T_0_s, U\n",
    "    \"\"\"\n",
    "    psi = (2 * c_p * delta_T_0_s)/(U**2)\n",
    "    print(\"psi = \", psi)\n",
    "    return psi \n",
    "\n",
    "def calc_lambda(alpha, phi, psi):\n",
    "    \"\"\"\n",
    "    This function calculates the degree of reaction\n",
    "    ___________\n",
    "    Input: Swirl angle \"alpha\", flow coefficient \"phi\", blade loading coefficient \"psi\"\n",
    "    ___________\n",
    "    Output: Returns the value of the degree of coefficient and the tan_beta_3\n",
    "    \"\"\"\n",
    "    alpha = math.radians(alpha)\n",
    "    tan_beta_3 = math.tan(alpha) + (1/phi)\n",
    "    lambda_val = (4 * tan_beta_3 * phi - psi)/4\n",
    "    print(\"lambda = \", lambda_val)\n",
    "    return lambda_val\n",
    "\n",
    "def calc_T_static(T_total, M):\n",
    "    T_static = T_total/(1 + 0.15*(M**2))\n",
    "    return T_static\n",
    "\n",
    "\n",
    "def calc_area(T_static, p_static, C_a, n):\n",
    "    \"\"\"\n",
    "    This function calculate air properties and also the area from mass flow rate\n",
    "    ___________\n",
    "    Input: Total Temperature \"T_01\", Total Pressure \"p_01\", Flow velocity \"c\", axial component of the velocity \"c_a\", station number \"n\"\n",
    "    ___________\n",
    "    Output: A plot showing stability in real and imaginary axis.\n",
    "    \"\"\"\n",
    "    rho_ = p_static/(R*T_static)\n",
    "    A = mass_flow_rate/(rho_* C_a)/1000\n",
    "    print(\"rho_\",n, \" = \", rho_ * 1000)\n",
    "    print(\"A_\",n, \" = \", A)\n",
    "    return A\n",
    "\n",
    "def calc_height(A, r_m, n):\n",
    "    \"\"\"\n",
    "    This calculated geometric values related to the cross section of the turbine\n",
    "    ___________\n",
    "    Input: area \"A\", station number \"n\"\n",
    "    ___________\n",
    "    Output: A plot showing stability in real and imaginary axis.\n",
    "    \"\"\"\n",
    "    h = (revs * A)/(U)\n",
    "    rtrm = (r_m + 0.5*h)/(r_m - 0.5*h)\n",
    "    print(\"h_\",n,\"=\", h)\n",
    "    print(\"rtrm_\",n,\"=\", rtrm)\n",
    "    return h\n",
    "\n",
    "def calc_freevortex_nozzle(r_m, r_r, r_t, alpha):\n",
    "    tan_alpha_r_2 = (r_m / r_r) * math.tan(math.radians(alpha))\n",
    "    tan_alpha_t_2 = (r_m / r_t) * math.tan(math.radians(alpha))\n",
    "\n",
    "    alpha_2_r_fv = np.arctan(tan_alpha_r_2)\n",
    "    alpha_2_t_fv = np.arctan(tan_alpha_t_2)\n",
    "    print(\"nozzle alpha values: root, tip\")\n",
    "    print(math.degrees(alpha_2_r_fv), math.degrees(alpha_2_t_fv))\n",
    "\n",
    "    beta_2_r_fv = math.degrees(np.arctan(tan_alpha_r_2 - ((r_m / r_r) * (1/phi))))\n",
    "    beta_2_t_fv = math.degrees(np.arctan(tan_alpha_t_2 - ((r_m / r_t) * (1/phi))))\n",
    "    print(\"nozzle beta values: root, tip\")\n",
    "    print(beta_2_r_fv, beta_2_t_fv)\n",
    "\n",
    "    return math.degrees(alpha_2_r_fv), beta_2_r_fv\n",
    "\n",
    "def calc_freevortex_rotor(r_m, r_r, r_t, alpha):\n",
    "    tan_alpha_r_3 = (r_m / r_r) * math.tan(math.radians(alpha))\n",
    "    tan_alpha_t_3 = (r_m / r_t) * math.tan(math.radians(alpha))\n",
    "\n",
    "    alpha_3_r_fv = math.degrees(np.arctan(tan_alpha_r_3))\n",
    "    alpha_3_t_fv = math.degrees(np.arctan(tan_alpha_t_3))\n",
    "    print(\"rotor alpha values: root, tip\")\n",
    "    print(alpha_3_r_fv, alpha_3_t_fv)\n",
    "\n",
    "    beta_3_r_fv = math.degrees(np.arctan(tan_alpha_r_3 + ((r_m / r_r) * (1/phi))))\n",
    "    beta_3_t_fv = math.degrees(np.arctan(tan_alpha_t_3 + ((r_m / r_t) * (1/phi))))\n",
    "    print(\"rotor beta values: root, tip\")\n",
    "    print(abs(beta_3_r_fv), abs(beta_3_t_fv))\n",
    "\n",
    "    return alpha_3_r_fv, beta_3_r_fv\n"
   ]
  },
  {
   "cell_type": "markdown",
   "metadata": {},
   "source": [
    "### Cycle Calculations\n",
    "#### Inlet"
   ]
  },
  {
   "cell_type": "code",
   "execution_count": 45,
   "metadata": {},
   "outputs": [
    {
     "name": "stdout",
     "output_type": "stream",
     "text": [
      "100.31175\n"
     ]
    }
   ],
   "source": [
    "# ===============================================================================\n",
    "# CYCLE CALCULATIONS\n",
    "# ===============================================================================\n",
    "# Conditions at the Inlet\n",
    "P_a = P_0 = 101.325        # [kPa]\n",
    "T_a = T_0 = 296.483        # [K]\n",
    "\n",
    "T_01 = T_0\n",
    "P_01 = 0.99*P_0\n",
    "print(P_01)"
   ]
  },
  {
   "cell_type": "markdown",
   "metadata": {},
   "source": [
    "#### Low Pressure Compressor"
   ]
  },
  {
   "cell_type": "code",
   "execution_count": 46,
   "metadata": {},
   "outputs": [
    {
     "name": "stdout",
     "output_type": "stream",
     "text": [
      "401.247 463.059728696695 167.40961234017846\n"
     ]
    }
   ],
   "source": [
    "# LPC Calculations\n",
    "\n",
    "P_02 = lpc_pr * P_01        # Using provided pressure ratio\n",
    "T_02 = T_01 + (T_01/lpc_eff * (lpc_pr**(0.285714) - 1))\n",
    "W_lpc = m_dot * c_p_air * (T_02 - T_01)         # [kJ/kg]\n",
    "print(P_02, T_02, W_lpc/m_dot)"
   ]
  },
  {
   "cell_type": "markdown",
   "metadata": {},
   "source": [
    "#### High Pressure Compressor"
   ]
  },
  {
   "cell_type": "code",
   "execution_count": 47,
   "metadata": {},
   "outputs": [
    {
     "name": "stdout",
     "output_type": "stream",
     "text": [
      "1203.741 662.7644873827279 200.70328247946304\n"
     ]
    }
   ],
   "source": [
    "# HPC Calculations\n",
    "\n",
    "P_03 = hpc_pr * P_02\n",
    "T_03 = T_02 + (T_02/hpc_eff * (hpc_pr**(0.285714) - 1))\n",
    "W_hpc = m_dot * c_p_air * (T_03 - T_02)         # [kJ/kg]\n",
    "print(P_03, T_03, W_hpc/m_dot)"
   ]
  },
  {
   "cell_type": "markdown",
   "metadata": {},
   "source": [
    "#### Combustion Chamber"
   ]
  },
  {
   "cell_type": "code",
   "execution_count": 48,
   "metadata": {},
   "outputs": [
    {
     "name": "stdout",
     "output_type": "stream",
     "text": [
      "1182.073662\n",
      "1245.3208220773054\n"
     ]
    }
   ],
   "source": [
    "# Combustion Calculations\n",
    "\n",
    "m_air = 0.91 * m_dot       # Mass flow into combustor/turbine | See next line:\n",
    "# Turbine cooling air percentage can be considered as percent\n",
    "# flow of turbine inlet flow.\n",
    "P_04 = P_03 * 0.982\n",
    "print(P_04)\n",
    "T_04 = ((c_p_air * T_03) + (AFR * FHV * combustor_eff))/((1 + AFR) * c_p_gas)\n",
    "print(T_04)"
   ]
  },
  {
   "cell_type": "markdown",
   "metadata": {},
   "source": [
    "#### High Pressure Turbine"
   ]
  },
  {
   "cell_type": "code",
   "execution_count": 49,
   "metadata": {},
   "outputs": [
    {
     "name": "stdout",
     "output_type": "stream",
     "text": [
      "1225.9485919279928\n",
      "1041.2535775588708\n",
      "1033.9843383376274\n",
      "517.9223058003336\n",
      "1041.2535775588708\n",
      "1033.9843383376274\n",
      "517.9223058003336\n"
     ]
    }
   ],
   "source": [
    "# HPT Calculations\n",
    "\n",
    "m_turbine = m_air + (0.02 * m_air)      # Includes the mass of the fuel as well\n",
    "m_cool_vane_hpt = 0.03 * m_turbine          # HPT Vane Cooling Air MFR\n",
    "m_cool_disc_hpt = 0.0165 * m_turbine        # HPT Disk Cooling Air MFR\n",
    "\n",
    "\n",
    "\n",
    "# Calculation of cooling after stator\n",
    "T_hpt_after_vane = ((m_turbine * c_p_gas * T_04) + (m_cool_vane_hpt * c_p_air * T_03)) / (c_p_gas * (m_turbine + m_cool_vane_hpt))\n",
    "print(T_hpt_after_vane)\n",
    "# Calculation after rotor but before disc cooling\n",
    "# PARAM CODE: T_hpt_required_energy = T_04 - ((1.01 * W_hpc) / ((m_turbine + m_cool_vane_hpt) * c_p_gas))\n",
    "T_hpt_03 = T_hpt_after_vane - ((1.01 * W_hpc) / ((m_turbine + m_cool_vane_hpt) * c_p_gas)) #ZAC\n",
    "print(T_hpt_03) #\n",
    "# Calculation after disc cooling\n",
    "T_hpt_after_rotor = (((m_turbine + m_cool_vane_hpt) * c_p_gas * T_hpt_03) + (m_cool_disc_hpt * c_p_air * T_03)) / (c_p_gas * (m_turbine + m_cool_vane_hpt + m_cool_disc_hpt))\n",
    "T_05 = T_hpt_after_rotor\n",
    "print(T_05)\n",
    "# Pressure\n",
    "P_05 = calc_turbine_pressure(P_04, T_hpt_after_vane, T_05, 0.84)\n",
    "print(T_hpt_03)\n",
    "print(T_05)\n",
    "print(P_05)"
   ]
  },
  {
   "cell_type": "markdown",
   "metadata": {},
   "source": [
    "#### Low Pressure Turbine"
   ]
  },
  {
   "cell_type": "code",
   "execution_count": 50,
   "metadata": {},
   "outputs": [
    {
     "name": "stdout",
     "output_type": "stream",
     "text": [
      "882.3564524684568\n",
      "879.2135328271395\n",
      "242.2086878327196\n"
     ]
    }
   ],
   "source": [
    "# LPT Calculations\n",
    "\n",
    "m_turbine_lpt = m_turbine + m_cool_vane_hpt + m_cool_disc_hpt\n",
    "m_cool_disc_lpt = 0.011 * m_turbine\n",
    "\n",
    "# Calculation of work done\n",
    "T_lpt_required_energy = T_05 - ((1.01 * W_lpc) / (m_turbine_lpt * c_p_gas))\n",
    "print(T_lpt_required_energy)\n",
    "# Calculation after disc cooling\n",
    "T_lpt_after_rotor = ((m_turbine_lpt * c_p_gas * T_lpt_required_energy) + (m_cool_disc_lpt * c_p_air * T_03)) / (c_p_gas * (m_turbine_lpt +  m_cool_disc_lpt))\n",
    "T_06 = T_lpt_after_rotor\n",
    "print(T_06)\n",
    "# Pressure\n",
    "P_06 = calc_turbine_pressure(P_05, T_05, T_06, lpc_eff)"
   ]
  },
  {
   "cell_type": "markdown",
   "metadata": {},
   "source": [
    "#### Exhaust"
   ]
  },
  {
   "cell_type": "code",
   "execution_count": 51,
   "metadata": {},
   "outputs": [
    {
     "name": "stdout",
     "output_type": "stream",
     "text": [
      "102.85344186914772\n",
      "104.91051070653067\n"
     ]
    }
   ],
   "source": [
    "# Exhaust Calculations \n",
    "P_08 = P_0 * ((1 + ((gamma_g-1)/(2)) * exhaust_mach**2 )**(gamma_g/(gamma_g-1)))\n",
    "print(P_08)\n",
    "P_07 = 1.02 * P_08      # Power Turbine Exit Total Pressure\n",
    "print(P_07)"
   ]
  },
  {
   "cell_type": "markdown",
   "metadata": {},
   "source": [
    "#### Power Pressure Turbine"
   ]
  },
  {
   "cell_type": "code",
   "execution_count": 52,
   "metadata": {},
   "outputs": [
    {
     "name": "stdout",
     "output_type": "stream",
     "text": [
      "240.75543570572327 1033.9843383376274 879.2135328271395 727.5310872648662 725.8100183359649\n"
     ]
    }
   ],
   "source": [
    "# Power Turbine Calculations\n",
    "m_turbine_pt = m_turbine_lpt + m_cool_disc_lpt\n",
    "m_cool_disc_pt = 0.0125 * m_turbine\n",
    "# Calculation of work done\n",
    "P_06_PT = (1 - ITD_loss) * P_06\n",
    "pt_pr = P_06_PT / P_07\n",
    "T_pt_required_energy = T_06 - (pt_eff * T_06 * (1 - (1 / pt_pr)**((gamma_g - 1)/gamma_g)))\n",
    "\n",
    "# PT Temperature after disc cooling\n",
    "T_pt_after_rotor = ((m_turbine_pt * c_p_gas * T_pt_required_energy) + (m_cool_disc_pt * c_p_air * T_03)) / (c_p_gas * (m_turbine_pt +  m_cool_disc_pt))\n",
    "T_07 = T_pt_after_rotor         # Total temperature at power turbine exit\n",
    "\n",
    "print(P_06_PT, T_05, T_06, T_pt_required_energy,T_07)"
   ]
  },
  {
   "cell_type": "markdown",
   "metadata": {},
   "source": [
    "#### Work and SFC Calculations"
   ]
  },
  {
   "cell_type": "code",
   "execution_count": 53,
   "metadata": {},
   "outputs": [
    {
     "name": "stdout",
     "output_type": "stream",
     "text": [
      "172.39013303043484 0.4176573144548167\n",
      "0.4176573144548167\n",
      "Stored 'SFC' (float)\n",
      "Stored 'W_pt' (float)\n"
     ]
    }
   ],
   "source": [
    "# Calculation of work\n",
    "W_pt = c_p_gas * (T_06 - T_pt_required_energy) * 0.99 \n",
    "SFC = (3600 * AFR) / W_pt\n",
    "print(W_pt, SFC)\n",
    "print(SFC)\n",
    "%store SFC\n",
    "%store W_pt"
   ]
  }
 ],
 "metadata": {
  "kernelspec": {
   "display_name": "base",
   "language": "python",
   "name": "python3"
  },
  "language_info": {
   "codemirror_mode": {
    "name": "ipython",
    "version": 3
   },
   "file_extension": ".py",
   "mimetype": "text/x-python",
   "name": "python",
   "nbconvert_exporter": "python",
   "pygments_lexer": "ipython3",
   "version": "3.11.5"
  }
 },
 "nbformat": 4,
 "nbformat_minor": 2
}
