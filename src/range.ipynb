{
 "cells": [
  {
   "cell_type": "code",
   "execution_count": 30,
   "metadata": {},
   "outputs": [],
   "source": [
    "import math\n",
    "import numpy\n",
    "from ambiance import Atmosphere"
   ]
  },
  {
   "cell_type": "markdown",
   "metadata": {},
   "source": [
    "### Define Ranges\n",
    "\n",
    "Define the range for the stage loading coefficnent, flow coefficient and the reaction. Using the obtained values, calculate the other values.\n",
    "\n",
    "Use the following data:\n",
    "1. Stage Loading Coefficient -> 2.5 - 5.0\n",
    "2. Reaction -> 0.45 - 0.49\n",
    "3. Flow Coefficient -> TBD"
   ]
  },
  {
   "cell_type": "code",
   "execution_count": 31,
   "metadata": {},
   "outputs": [],
   "source": [
    "range_controller = 111\n",
    "#range_stage_loading = numpy.linspace(1.25, 2.5, range_controller) Forget this\n",
    "range_flow_coefficient = numpy.linspace(0.3, 1.0, range_controller)\n",
    "range_degree_reaction = numpy.linspace(0.45, 0.5, range_controller)\n",
    "\n",
    "#====================================================================#\n",
    "c_a_exit = 170                  # [m/s]\n",
    "c_a_max = 335                   # [m/s]"
   ]
  },
  {
   "cell_type": "markdown",
   "metadata": {},
   "source": [
    "### CHECK FILTER\n",
    "1. Remove the values of U based on the maximum hub speed."
   ]
  },
  {
   "cell_type": "code",
   "execution_count": 32,
   "metadata": {},
   "outputs": [
    {
     "name": "stdout",
     "output_type": "stream",
     "text": [
      "flow coeff | U | Stage Loading\n",
      "0.51 | 333.3333333333333 | 1.9440000000000002\n",
      "0.5163636363636364 | 329.22535211267603 | 1.9928160370613974\n",
      "0.5227272727272727 | 325.2173913043478 | 2.0422374102776746\n",
      "0.5290909090909091 | 321.30584192439864 | 2.092264119648832\n",
      "0.5354545454545454 | 317.4872665534805 | 2.142896165174869\n",
      "0.5418181818181818 | 313.758389261745 | 2.1941335468557863\n",
      "0.5481818181818181 | 310.11608623548926 | 2.2459762646915835\n",
      "0.5545454545454545 | 306.5573770491804 | 2.2984243186822604\n",
      "0.5609090909090908 | 303.0794165316046 | 2.3514777088278183\n",
      "0.5672727272727272 | 299.67948717948724 | 2.4051364351282554\n",
      "0.5736363636363636 | 296.3549920760697 | 2.459400497583574\n",
      "0.58 | 293.1034482758621 | 2.5142698961937713\n",
      "0.5863636363636363 | 289.92248062015506 | 2.569744630958849\n",
      "0.5927272727272728 | 286.8098159509202 | 2.6258247018788077\n",
      "0.5990909090909091 | 283.76327769347495 | 2.682510108953645\n",
      "0.6054545454545455 | 280.7807807807808 | 2.7398008521833623\n",
      "0.6118181818181818 | 277.86032689450224 | 2.7976969315679603\n",
      "0.6181818181818182 | 275.0 | 2.856198347107438\n",
      "0.6245454545454545 | 272.19796215429403 | 2.915305098801796\n",
      "0.6309090909090909 | 269.45244956772336 | 2.975017186651033\n"
     ]
    }
   ],
   "source": [
    "# Remove the values of U based on the maximum hub speed.\n",
    "U = c_a_exit/range_flow_coefficient\n",
    "upper_limit_U = 335\n",
    "indices = numpy.where(U <= upper_limit_U)[0]\n",
    "\n",
    "# Filter the values\n",
    "U = U[indices]\n",
    "range_flow_coefficient = range_flow_coefficient[indices]\n",
    "upper_limit_stage_loading = 3.0\n",
    "stage_loading_we_get = 216000/(U**2)\n",
    "indices = numpy.where(stage_loading_we_get <= upper_limit_stage_loading)[0]\n",
    "stage_loading_we_get = stage_loading_we_get[indices]\n",
    "\n",
    "\n",
    "print(\"flow coeff\",\"|\",\"U\",\"|\",\"Stage Loading\")\n",
    "for i in range(len(stage_loading_we_get)):\n",
    "    print(range_flow_coefficient[i], \"|\", U[i], \"|\", stage_loading_we_get[i])"
   ]
  }
 ],
 "metadata": {
  "kernelspec": {
   "display_name": "Python 3",
   "language": "python",
   "name": "python3"
  },
  "language_info": {
   "codemirror_mode": {
    "name": "ipython",
    "version": 3
   },
   "file_extension": ".py",
   "mimetype": "text/x-python",
   "name": "python",
   "nbconvert_exporter": "python",
   "pygments_lexer": "ipython3",
   "version": "3.11.3"
  }
 },
 "nbformat": 4,
 "nbformat_minor": 2
}
