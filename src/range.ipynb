{
 "cells": [
  {
   "cell_type": "code",
   "execution_count": 124,
   "metadata": {},
   "outputs": [],
   "source": [
    "import math\n",
    "import numpy\n",
    "from ambiance import Atmosphere"
   ]
  },
  {
   "cell_type": "markdown",
   "metadata": {},
   "source": [
    "### Define Ranges\n",
    "\n",
    "Define the range for the stage loading coefficnent, flow coefficient and the reaction. Using the obtained values, calculate the other values.\n",
    "\n",
    "Use the following data:\n",
    "1. Stage Loading Coefficient -> 2.5 - 5.0\n",
    "2. Reaction -> 0.45 - 0.49\n",
    "3. Flow Coefficient -> TBD"
   ]
  },
  {
   "cell_type": "code",
   "execution_count": 125,
   "metadata": {},
   "outputs": [],
   "source": [
    "range_controller = 50\n",
    "#range_stage_loading = numpy.linspace(1.25, 2.5, range_controller) Forget this\n",
    "range_flow_coefficient = numpy.linspace(0.3, 1.0, range_controller)\n",
    "range_degree_reaction = numpy.linspace(0.45, 0.5, range_controller)\n",
    "range_beta_3 = numpy.linspace(10, 40, range_controller)\n",
    "#====================================================================#\n",
    "c_a_exit = 170                  # [m/s]\n",
    "c_a_max = 335                   # [m/s]"
   ]
  },
  {
   "cell_type": "markdown",
   "metadata": {},
   "source": [
    "### CHECK FILTER\n",
    "1. Remove the values of U based on the maximum hub speed."
   ]
  },
  {
   "cell_type": "code",
   "execution_count": 126,
   "metadata": {},
   "outputs": [
    {
     "name": "stdout",
     "output_type": "stream",
     "text": [
      "flow coeff | U | Stage Loading\n",
      "0.5142857142857142 | 330.5555555555556 | 3.953619094696701\n",
      "0.5285714285714286 | 321.6216216216216 | 4.176315231975144\n",
      "0.5428571428571428 | 313.15789473684214 | 4.405112633288609\n",
      "0.5571428571428572 | 305.12820512820514 | 4.640011298637101\n",
      "0.5714285714285714 | 297.5 | 4.88101122802062\n",
      "0.5857142857142856 | 290.24390243902445 | 5.128112421439162\n",
      "0.6 | 283.33333333333337 | 5.3813148788927325\n",
      "0.6142857142857143 | 276.74418604651163 | 5.640618600381329\n",
      "0.6285714285714286 | 270.45454545454544 | 5.906023585904951\n",
      "==================================================================\n",
      "-57.59538043776696\n"
     ]
    }
   ],
   "source": [
    "# Remove the values of U based on the maximum hub speed.\n",
    "U = c_a_exit/range_flow_coefficient\n",
    "upper_limit_U = 335\n",
    "indices = numpy.where(U <= upper_limit_U)[0]\n",
    "U = U[indices]\n",
    "\n",
    "\n",
    "# Filter the values for stage loading\n",
    "range_flow_coefficient = range_flow_coefficient[indices]\n",
    "upper_limit_stage_loading = 3.0*2\n",
    "stage_loading_we_get = 2*216000/(U**2)\n",
    "indices = numpy.where(stage_loading_we_get <= upper_limit_stage_loading)[0]\n",
    "stage_loading_we_get = stage_loading_we_get[indices]\n",
    "range_flow_coefficient = range_flow_coefficient[indices]\n",
    "\n",
    "beta_2_rad = numpy.arctan((numpy.radians(range_beta_3[0])) - (2*range_degree_reaction[0]/range_flow_coefficient[0]))\n",
    "beta_2 = numpy.rad2deg(beta_2_rad)\n",
    "\n",
    "print(\"flow coeff\",\"|\",\"U\",\"|\",\"Stage Loading\")\n",
    "for i in range(len(stage_loading_we_get)):\n",
    "    print(range_flow_coefficient[i], \"|\", U[i], \"|\", stage_loading_we_get[i])\n",
    "print(\"==================================================================\")\n",
    "print(beta_2)"
   ]
  }
 ],
 "metadata": {
  "kernelspec": {
   "display_name": "Python 3",
   "language": "python",
   "name": "python3"
  },
  "language_info": {
   "codemirror_mode": {
    "name": "ipython",
    "version": 3
   },
   "file_extension": ".py",
   "mimetype": "text/x-python",
   "name": "python",
   "nbconvert_exporter": "python",
   "pygments_lexer": "ipython3",
   "version": "3.11.3"
  }
 },
 "nbformat": 4,
 "nbformat_minor": 2
}
