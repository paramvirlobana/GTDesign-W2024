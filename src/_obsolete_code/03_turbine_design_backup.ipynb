{
 "cells": [
  {
   "cell_type": "code",
   "execution_count": 157,
   "metadata": {},
   "outputs": [],
   "source": [
    "import math\n",
    "import numpy\n",
    "import pandas as pd"
   ]
  },
  {
   "cell_type": "markdown",
   "metadata": {},
   "source": [
    "## General Properties"
   ]
  },
  {
   "cell_type": "code",
   "execution_count": 158,
   "metadata": {},
   "outputs": [],
   "source": [
    "mechanical_eff = 0.99\n",
    "# Air Properties\n",
    "gamma_air = 1.4\n",
    "gamma_g = 1.33333\n",
    "c_p_air = 1.005\n",
    "c_p_gas = 1.148\n",
    "R = 287"
   ]
  },
  {
   "cell_type": "markdown",
   "metadata": {},
   "source": [
    "## Define Ranges\n",
    "\n",
    "Define the range for the stage loading coefficient, flow coefficient and the reaction. Using the obtained values, calculate the other values.\n",
    "\n",
    "Use the following data:\n",
    "1. Stage Loading Coefficient -> 2.5 - 5.0\n",
    "2. Reaction -> 0.45 - 0.49\n",
    "3. Flow Coefficient -> TBD"
   ]
  },
  {
   "cell_type": "code",
   "execution_count": null,
   "metadata": {},
   "outputs": [],
   "source": []
  },
  {
   "cell_type": "code",
   "execution_count": 159,
   "metadata": {},
   "outputs": [],
   "source": [
    "range_controller = 50\n",
    "range_flow_coefficient = numpy.linspace(0.3, 1.0, range_controller)\n",
    "range_degree_reaction = numpy.linspace(0.4, 0.5, range_controller)\n",
    "range_alpha_3 = numpy.linspace(10, 40, range_controller)\n",
    "range_exit_axial_velocity = numpy.linspace(0.3 * numpy.sqrt(gamma_g*R*1020.985), 0.55 * numpy.sqrt(gamma_g*R*1020.985), range_controller) # hyp\n",
    "#====================================================================#\n",
    "c_a_exit = 255                  # [m/s]\n",
    "U_max = 335                     # [m/s]"
   ]
  },
  {
   "cell_type": "markdown",
   "metadata": {},
   "source": [
    "### CHECK FILTER\n",
    "1. Remove the values of U based on the maximum hub speed."
   ]
  },
  {
   "cell_type": "code",
   "execution_count": 160,
   "metadata": {},
   "outputs": [],
   "source": [
    "# Remove the values of U based on the maximum hub speed.\n",
    "# CALCULATION OF METAL SPEED U\n",
    "U = c_a_exit/range_flow_coefficient\n",
    "upper_limit_U = 335\n",
    "indices = numpy.where(U <= upper_limit_U)[0]\n",
    "U = U[indices]"
   ]
  },
  {
   "cell_type": "markdown",
   "metadata": {},
   "source": [
    "2. Remove the values of the stage loading based on industry practices."
   ]
  },
  {
   "cell_type": "code",
   "execution_count": 161,
   "metadata": {},
   "outputs": [],
   "source": [
    "# CALCULATION OF THE STAGE LOADING COEFFICIENT\n",
    "# Filter the values for stage loading\n",
    "range_flow_coefficient = range_flow_coefficient[indices]\n",
    "upper_limit_stage_loading = 3.0*2\n",
    "stage_loading_we_get = 2*216000/(U**2)\n",
    "indices = numpy.where(stage_loading_we_get <= upper_limit_stage_loading)[0]\n",
    "stage_loading_we_get = stage_loading_we_get[indices]\n",
    "range_flow_coefficient = range_flow_coefficient[indices]"
   ]
  },
  {
   "cell_type": "markdown",
   "metadata": {},
   "source": [
    "## Computation of results\n",
    "Use of dataframe to organize and analyze the data. \n",
    "\n",
    "Results saved as .csv file -> \"_outputs/output.csv\""
   ]
  },
  {
   "cell_type": "code",
   "execution_count": 162,
   "metadata": {},
   "outputs": [],
   "source": [
    "def calc_exit_velocity(alpha):\n",
    "    #beta_3 = numpy.arctan(numpy.tan(numpy.radians(alpha)) + range_flow_coefficient**(-1))\n",
    "    velocity = c_a_exit/(numpy.cos(alpha))\n",
    "    velocity_mach = velocity/numpy.sqrt(gamma_g*R*1020.985)\n",
    "    return velocity_mach\n",
    "\n",
    "\n",
    "def calc_reaction(alpha, range_stage_loading, range_flow_coefficient):\n",
    "    \"\"\"\n",
    "    This function calculates the degree of reaction.\n",
    "    Input: Swirl angle \"alpha\", flow coefficient \"phi\", blade loading coefficient \"psi\"\n",
    "    Output: Returns the value of the degree of coefficient.\n",
    "    \"\"\"\n",
    "    tan_beta_3 = numpy.tan(numpy.radians(alpha)) + range_flow_coefficient**(-1)\n",
    "    reaction = (tan_beta_3 * 2 * range_flow_coefficient - 0.5 * range_stage_loading) / 2\n",
    "    return reaction\n",
    "\n",
    "def calc_exit_axial_velocity(angle, range_exit_velocity):\n",
    "    c_a_5 = range_exit_velocity * (numpy.cos(numpy.radians(range_alpha_3)))\n",
    "    return c_a_5\n",
    "\n",
    "\n",
    "data = []\n",
    "\n",
    "for i in range_alpha_3:\n",
    "    for j in stage_loading_we_get:\n",
    "        for k in range_flow_coefficient:\n",
    "                if 0.7 <= k <= 0.9: \n",
    "                    result = calc_reaction(i, j, k)\n",
    "                    velocity = calc_exit_velocity(i)\n",
    "                    if 0.35 <= result <= 0.65 and 0.3 <= velocity <= 0.55:\n",
    "                        data.append((i, j, k, result, velocity))\n",
    "            \n",
    "df = pd.DataFrame(data, columns=['alpha_3', 'stage_loading', 'flow_coefficient', 'reaction', 'mach_number'])\n",
    "df.to_csv('_outputs/output.csv', index=False)\n"
   ]
  }
 ],
 "metadata": {
  "kernelspec": {
   "display_name": "Python 3",
   "language": "python",
   "name": "python3"
  },
  "language_info": {
   "codemirror_mode": {
    "name": "ipython",
    "version": 3
   },
   "file_extension": ".py",
   "mimetype": "text/x-python",
   "name": "python",
   "nbconvert_exporter": "python",
   "pygments_lexer": "ipython3",
   "version": "3.11.5"
  }
 },
 "nbformat": 4,
 "nbformat_minor": 2
}
