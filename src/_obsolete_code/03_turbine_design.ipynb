{
 "cells": [
  {
   "cell_type": "code",
   "execution_count": 1,
   "metadata": {},
   "outputs": [],
   "source": [
    "import math\n",
    "import numpy\n",
    "import pandas as pd"
   ]
  },
  {
   "cell_type": "markdown",
   "metadata": {},
   "source": [
    "## General Properties"
   ]
  },
  {
   "cell_type": "code",
   "execution_count": 2,
   "metadata": {},
   "outputs": [],
   "source": [
    "mechanical_eff = 0.99\n",
    "# Air Properties\n",
    "gamma_air = 1.4\n",
    "gamma_g = 1.33333\n",
    "c_p_air = 1.005\n",
    "c_p_gas = 1.148\n",
    "R = 287"
   ]
  },
  {
   "cell_type": "markdown",
   "metadata": {},
   "source": [
    "## Define Ranges\n",
    "\n",
    "Define the range for the stage loading coefficient, flow coefficient and the reaction. Using the obtained values, calculate the other values.\n",
    "\n",
    "Use the following data:\n",
    "1. Stage Loading Coefficient -> 2.5 - 5.0\n",
    "2. Reaction -> 0.45 - 0.49\n",
    "3. Flow Coefficient -> 0.3 - 1.0\n",
    "4. Exit Absolute Mach Number -> 0.3 - 0.55"
   ]
  },
  {
   "cell_type": "code",
   "execution_count": 3,
   "metadata": {},
   "outputs": [],
   "source": [
    "range_controller = 10\n",
    "range_flow_coefficient = numpy.linspace(0.5, 1.0, 25)\n",
    "range_degree_reaction = numpy.linspace(0.4, 0.5, range_controller)\n",
    "range_alpha_3 = numpy.linspace(10, 40, 30)\n",
    "range_exit_velocity = numpy.linspace(0.3 * numpy.sqrt(gamma_g*R*1020.985), 0.55 * numpy.sqrt(gamma_g*R*1020.985), 10)"
   ]
  },
  {
   "cell_type": "markdown",
   "metadata": {},
   "source": [
    "#### Calculation Exit Axial Velocity"
   ]
  },
  {
   "cell_type": "code",
   "execution_count": 4,
   "metadata": {},
   "outputs": [],
   "source": [
    "def calc_exit_axial_velocity(range_alpha_3, range_exit_velocity):\n",
    "    c_a_5 = range_exit_velocity * (numpy.cos(numpy.radians(range_alpha_3)))\n",
    "    return c_a_5\n",
    "    \n",
    "data_exit = []\n",
    "\n",
    "for i in range_alpha_3:\n",
    "    for j in range_exit_velocity:\n",
    "        c_a_5 = calc_exit_axial_velocity(i, j)\n",
    "        data_exit.append((i, j, c_a_5))\n",
    "\n",
    "df_exit = pd.DataFrame(data_exit, columns = ['alpha_3','c_5','c_a_5'])\n",
    "# extract data from df for further computations\n",
    "c_a_5 = df_exit['c_a_5']\n",
    "alpha_3 = df_exit['alpha_3']\n",
    "df_exit.to_csv('_outputs/output_velocities.csv', index=False)"
   ]
  },
  {
   "cell_type": "markdown",
   "metadata": {},
   "source": [
    "### CHECK FILTER\n",
    "1. Remove the values of U based on the maximum hub speed."
   ]
  },
  {
   "cell_type": "markdown",
   "metadata": {},
   "source": [
    "2. Remove the values of the stage loading based on industry practices."
   ]
  },
  {
   "cell_type": "code",
   "execution_count": 5,
   "metadata": {},
   "outputs": [],
   "source": [
    "data_U_psi = []\n",
    "\n",
    "for i in c_a_5:\n",
    "    for j in range_flow_coefficient:\n",
    "        U = i / j\n",
    "        stage_loading = 2*216000/(U**2)\n",
    "        if 0 <= U <= 335 and 0.7 <= j <= 1.0 and stage_loading <= 10:\n",
    "            data_U_psi.append((i, j, U, stage_loading))\n",
    " \n",
    "df_U_psi = pd.DataFrame(data_U_psi, columns = ['c_a_5','flow_coefficient','U', 'stage_loading'])\n",
    "df_U_psi.to_csv('_outputs/output_U.csv', index=False)\n",
    "\n",
    "# extract data from df for further computations\n",
    "c_a_5 = df_U_psi['c_a_5']\n",
    "flow_coefficient = df_U_psi['flow_coefficient']\n",
    "stage_loading = df_U_psi['stage_loading']"
   ]
  },
  {
   "cell_type": "markdown",
   "metadata": {},
   "source": [
    "## Computation of results\n",
    "Use of dataframe to organize and analyze the data. \n",
    "\n",
    "Results saved as .csv file -> \"_outputs/output.csv\""
   ]
  },
  {
   "cell_type": "code",
   "execution_count": 6,
   "metadata": {},
   "outputs": [
    {
     "data": {
      "text/plain": [
       "\"\\ndata = []\\n\\nfor i in alpha_3:\\n    for j in stage_loading:\\n        for k in flow_coefficient:\\n            if 0.7 <= k <= 0.9: \\n                result = calc_reaction(i, j, k)\\n                if 0.35 <= result <= 0.65:\\n                    data.append((i, j, k, result))\\n            \\ndf = pd.DataFrame(data, columns=['alpha_3', 'stage_loading', 'flow_coefficient', 'reaction'])\\ndf.to_csv('_outputs/output.csv', index=False)\\n\""
      ]
     },
     "execution_count": 6,
     "metadata": {},
     "output_type": "execute_result"
    }
   ],
   "source": [
    "def calc_reaction(alpha, psi, phi):\n",
    "    \"\"\"\n",
    "    This function calculates the degree of reaction.\n",
    "    Input: Swirl angle \"alpha\", flow coefficient \"phi\", blade loading coefficient \"psi\"\n",
    "    Output: Returns the value of the degree of coefficient.\n",
    "    \"\"\"\n",
    "    tan_beta_3 = numpy.tan(numpy.radians(alpha)) + phi**(-1)\n",
    "    reaction = (tan_beta_3 * 2 * phi - 0.5 * psi) / 2\n",
    "    return reaction\n",
    "\n",
    "\"\"\"\n",
    "data = []\n",
    "\n",
    "for i in alpha_3:\n",
    "    for j in stage_loading:\n",
    "        for k in flow_coefficient:\n",
    "            if 0.7 <= k <= 0.9: \n",
    "                result = calc_reaction(i, j, k)\n",
    "                if 0.35 <= result <= 0.65:\n",
    "                    data.append((i, j, k, result))\n",
    "            \n",
    "df = pd.DataFrame(data, columns=['alpha_3', 'stage_loading', 'flow_coefficient', 'reaction'])\n",
    "df.to_csv('_outputs/output.csv', index=False)\n",
    "\"\"\"\n"
   ]
  }
 ],
 "metadata": {
  "kernelspec": {
   "display_name": "Python 3",
   "language": "python",
   "name": "python3"
  },
  "language_info": {
   "codemirror_mode": {
    "name": "ipython",
    "version": 3
   },
   "file_extension": ".py",
   "mimetype": "text/x-python",
   "name": "python",
   "nbconvert_exporter": "python",
   "pygments_lexer": "ipython3",
   "version": "3.11.5"
  }
 },
 "nbformat": 4,
 "nbformat_minor": 2
}
