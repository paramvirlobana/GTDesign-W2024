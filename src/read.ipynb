{
 "cells": [
  {
   "cell_type": "code",
   "execution_count": 2,
   "metadata": {},
   "outputs": [],
   "source": [
    "import numpy as np\n",
    "import pandas as pd\n",
    "from scipy.optimize import minimize\n",
    "import matplotlib.pyplot as plt\n",
    "from gt_design import *"
   ]
  },
  {
   "cell_type": "markdown",
   "metadata": {},
   "source": [
    "Import all the data"
   ]
  },
  {
   "cell_type": "code",
   "execution_count": 2,
   "metadata": {},
   "outputs": [],
   "source": [
    "data_efficiency = pd.read_csv(r'_outputs\\output_data_efficiency.csv')\n",
    "data_root_hub = pd.read_csv(r'_outputs\\output_data_root_hub.csv')\n",
    "data_off_design = pd.read_csv(r'_outputs\\output_data_off_design.csv')\n",
    "data_meanline = pd.read_csv(r'_outputs\\output_data_meanline.csv')\n",
    "data_meanline_losses = pd.read_csv(r'_outputs\\output_data_meanline_losses.csv')\n",
    "data_scratch = pd.read_csv(r'_outputs\\output_data_scratch.csv')"
   ]
  },
  {
   "cell_type": "markdown",
   "metadata": {},
   "source": [
    "Optimization"
   ]
  },
  {
   "cell_type": "code",
   "execution_count": 3,
   "metadata": {},
   "outputs": [],
   "source": [
    "data_efficiency['delta_eta_optimize_normalized'] = (data_efficiency['delta_eta_optimize'] - data_efficiency['delta_eta_optimize'].min()) / (data_efficiency['delta_eta_optimize'].max() - data_efficiency['delta_eta_optimize'].min())\n",
    "data_meanline_losses['N_rotor_normalized'] = (data_meanline_losses['N_rotor'] - data_meanline_losses['N_rotor'].min()) / (data_meanline_losses['N_rotor'].max() - data_meanline_losses['N_rotor'].min())\n",
    "data_meanline['AN_squared_normalized'] = (data_meanline['AN_squared'] - data_meanline['AN_squared'].min()) / (data_meanline['AN_squared'].max() - data_meanline['AN_squared'].min())\n",
    "data_efficiency['eta_opt'] = 1/data_efficiency['eta_final']\n",
    "data_efficiency['eta_opt_normalized'] = (data_efficiency['eta_opt'] - data_efficiency['eta_opt'].min()) / (data_efficiency['eta_opt'].max() - data_efficiency['eta_opt'].min())"
   ]
  },
  {
   "cell_type": "code",
   "execution_count": 4,
   "metadata": {},
   "outputs": [],
   "source": [
    "# OPTIMIZATION FUNCTION\n",
    "data_efficiency['func_optimize'] = 0.4 * (data_efficiency['eta_opt_normalized']) + 0.3 * (data_meanline_losses['N_rotor_normalized']) + 0.2 * (data_efficiency['delta_eta_optimize_normalized']) + 0.5 * data_meanline['AN_squared_normalized']"
   ]
  },
  {
   "cell_type": "markdown",
   "metadata": {},
   "source": [
    "Print Results"
   ]
  },
  {
   "cell_type": "code",
   "execution_count": 5,
   "metadata": {},
   "outputs": [
    {
     "data": {
      "text/plain": [
       "eta_tt                           90.263329\n",
       "eta_final                         0.885039\n",
       "eta_final_od                      0.869563\n",
       "eta_final_od_new                  0.872134\n",
       "eta_final_opt                     1.129894\n",
       "delta_eta_optimize                0.012905\n",
       "delta_eta_optimize_normalized     0.049198\n",
       "eta_opt                           1.129894\n",
       "eta_opt_normalized                0.000000\n",
       "func_optimize                     0.386763\n",
       "Name: 10145, dtype: float64"
      ]
     },
     "execution_count": 5,
     "metadata": {},
     "output_type": "execute_result"
    }
   ],
   "source": [
    "ind = data_efficiency['func_optimize'].idxmin()\n",
    "data_efficiency.iloc[ind]"
   ]
  },
  {
   "cell_type": "code",
   "execution_count": 6,
   "metadata": {},
   "outputs": [
    {
     "data": {
      "text/plain": [
       "reaction_hub        0.409614\n",
       "h                   0.020741\n",
       "r_tip               0.096554\n",
       "U_tip             406.928436\n",
       "r_hub               0.075813\n",
       "r_tip_stator        0.099385\n",
       "r_hub_stator        0.072982\n",
       "h_vane_mean         0.026403\n",
       "alpha_2_hub        71.656362\n",
       "alpha_3_hub        26.121690\n",
       "beta_2_hub         49.213387\n",
       "beta_3_hub         57.562670\n",
       "U_hub             319.514132\n",
       "V_2_hub           263.398619\n",
       "C_2_hub           546.727153\n",
       "M_2_rel_hub         0.406767\n",
       "M_2_hub             0.844312\n",
       "reaction_hub.1      0.409614\n",
       "alpha_2_tip        67.106913\n",
       "alpha_3_tip        21.058045\n",
       "beta_2_tip          0.179832\n",
       "beta_3_tip         60.457902\n",
       "U_tip.1           406.928436\n",
       "V_2_tip           172.064342\n",
       "C_2_tip           442.308052\n",
       "M_2_rel_tip         0.262560\n",
       "M_2_tip             0.674936\n",
       "M_3_rel_tip         0.968268\n",
       "Name: 10145, dtype: float64"
      ]
     },
     "execution_count": 6,
     "metadata": {},
     "output_type": "execute_result"
    }
   ],
   "source": [
    "data_root_hub.iloc[ind]"
   ]
  },
  {
   "cell_type": "code",
   "execution_count": 7,
   "metadata": {},
   "outputs": [
    {
     "data": {
      "text/plain": [
       "T_3_od                988.879094\n",
       "rho_3_od                1.484518\n",
       "P_3_od                421.318664\n",
       "alpha_3_od             29.905357\n",
       "beta_2_od              36.987615\n",
       "flow_coeff_2_od         0.526350\n",
       "incidence_2             8.524698\n",
       "incidence_off           4.524698\n",
       "v_2_od                215.411753\n",
       "C_w_3_od              172.890410\n",
       "C_a_3_od              300.600601\n",
       "U_mean_od             326.899155\n",
       "flow_coeff_3_od         0.919551\n",
       "work_od_cw         205747.191324\n",
       "work_od_vw         205747.191324\n",
       "M_2_rel_od              0.328706\n",
       "M_3_rel_od              0.948100\n",
       "Name: 10145, dtype: float64"
      ]
     },
     "execution_count": 7,
     "metadata": {},
     "output_type": "execute_result"
    }
   ],
   "source": [
    "data_off_design.iloc[ind]"
   ]
  },
  {
   "cell_type": "code",
   "execution_count": 8,
   "metadata": {},
   "outputs": [
    {
     "data": {
      "text/plain": [
       "stage_loading            3.214286e+00\n",
       "reaction_meanline        5.266010e-01\n",
       "flow_coefficient_2       4.737153e-01\n",
       "flow_coefficient_3       8.121638e-01\n",
       "omega                    4.214507e+03\n",
       "AN_squared               1.819183e+07\n",
       "T_01                     1.245321e+03\n",
       "T_1                      1.242086e+03\n",
       "P_01                     1.182074e+03\n",
       "P_1                      1.169840e+03\n",
       "rho_1                    3.281655e+00\n",
       "T_02                     1.225948e+03\n",
       "T_2                      1.122290e+03\n",
       "P_02                     1.182067e+03\n",
       "P_02_rel                 8.806631e+02\n",
       "P_2                      8.301847e+02\n",
       "rho_2                    2.577435e+00\n",
       "T_03                     1.041254e+03\n",
       "T_3                      9.890307e+02\n",
       "P_03                     5.179223e+02\n",
       "P_03_rel                 7.432638e+02\n",
       "P_3                      4.335581e+02\n",
       "rho_3                    1.527410e+00\n",
       "A_1                      1.736358e-02\n",
       "A_2                      1.123156e-02\n",
       "A_3                      1.123156e-02\n",
       "M_1                      1.250000e-01\n",
       "C_1                      8.617785e+01\n",
       "C_a_1                    8.486862e+01\n",
       "C_w_1                    1.496463e+01\n",
       "dummy                   -1.000000e+01\n",
       "M_2                      7.444309e-01\n",
       "C_2                      4.878505e+02\n",
       "C_a_2                    1.720635e+02\n",
       "C_w_2                    4.565000e+02\n",
       "alpha_2                  6.934762e+01\n",
       "M_2_rel                  2.986589e-01\n",
       "V_2                      1.957211e+02\n",
       "V_w_2                    9.327871e+01\n",
       "beta_2m                  2.846292e+01\n",
       "U                        3.632213e+02\n",
       "i                        5.222222e-01\n",
       "C_3                      3.212699e+02\n",
       "C_a_3                    2.949952e+02\n",
       "C_w_3                    1.272485e+02\n",
       "k                        2.333333e+01\n",
       "M_3_rel                  9.303489e-01\n",
       "V_3                      5.723485e+02\n",
       "V_w_3                    4.904698e+02\n",
       "beta_3m                  5.897501e+01\n",
       "work_Part_A              2.342692e+05\n",
       "work_check_cw            2.120299e+05\n",
       "work_check_vw            2.120299e+05\n",
       "AN_squared_normalized    1.538462e-01\n",
       "Name: 10145, dtype: float64"
      ]
     },
     "execution_count": 8,
     "metadata": {},
     "output_type": "execute_result"
    }
   ],
   "source": [
    "data_meanline.iloc[ind]"
   ]
  },
  {
   "cell_type": "code",
   "execution_count": 9,
   "metadata": {},
   "outputs": [
    {
     "data": {
      "text/plain": [
       "c_true_stator             0.052807\n",
       "c_a_stator                0.029256\n",
       "stagger_angle_stator     56.356813\n",
       "K_p_stator                0.027602\n",
       "K_s_stator                0.097244\n",
       "K_TET_stator              0.009733\n",
       "K_stator                  0.134580\n",
       "c_true_rotor              0.015955\n",
       "c_a_rotor                 0.014141\n",
       "stagger_angle_rotor      27.583311\n",
       "K_p_rotor                 0.029181\n",
       "K_s_rotor                 0.079922\n",
       "K_TET_rotor               0.021612\n",
       "K_rotor                   0.130715\n",
       "pitch_stator              0.040356\n",
       "zweifel_stator            0.850000\n",
       "N_stator                 13.000000\n",
       "pitch_rotor               0.010865\n",
       "zweifel_rotor             0.900000\n",
       "N_rotor                  49.000000\n",
       "throat_opening_stator     0.014234\n",
       "throat_opening_rotor      0.005600\n",
       "N_rotor_normalized        1.000000\n",
       "Name: 10145, dtype: float64"
      ]
     },
     "execution_count": 9,
     "metadata": {},
     "output_type": "execute_result"
    }
   ],
   "source": [
    "data_meanline_losses.iloc[ind]"
   ]
  },
  {
   "cell_type": "code",
   "execution_count": 10,
   "metadata": {},
   "outputs": [
    {
     "data": {
      "text/plain": [
       "zweifel_stator_NEW    0.877338\n",
       "zweifel_rotor_NEW     0.915409\n",
       "Name: 10145, dtype: float64"
      ]
     },
     "execution_count": 10,
     "metadata": {},
     "output_type": "execute_result"
    }
   ],
   "source": [
    "data_scratch.iloc[ind]"
   ]
  },
  {
   "cell_type": "code",
   "execution_count": 3,
   "metadata": {},
   "outputs": [
    {
     "name": "stdout",
     "output_type": "stream",
     "text": [
      "stagger_hub =  18.55313828002359\n",
      "stagger_tip =  39.20531172652326\n"
     ]
    }
   ],
   "source": [
    "stagger_hub = aerodynamic_losses.profile_losses.figure_2_5(49.213387, 57.562670)\n",
    "print(\"stagger_hub = \", stagger_hub)\n",
    "stagger_tip = aerodynamic_losses.profile_losses.figure_2_5(0.179832, 60.457902)\n",
    "print(\"stagger_tip = \", stagger_tip)"
   ]
  }
 ],
 "metadata": {
  "kernelspec": {
   "display_name": "base",
   "language": "python",
   "name": "python3"
  },
  "language_info": {
   "codemirror_mode": {
    "name": "ipython",
    "version": 3
   },
   "file_extension": ".py",
   "mimetype": "text/x-python",
   "name": "python",
   "nbconvert_exporter": "python",
   "pygments_lexer": "ipython3",
   "version": "3.11.5"
  }
 },
 "nbformat": 4,
 "nbformat_minor": 2
}
