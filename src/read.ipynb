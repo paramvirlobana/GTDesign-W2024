{
 "cells": [
  {
   "cell_type": "code",
   "execution_count": 41,
   "metadata": {},
   "outputs": [],
   "source": [
    "import numpy\n",
    "import numpy as np\n",
    "import math\n",
    "import pandas as pd\n",
    "from scipy.optimize import minimize\n",
    "import itertools\n",
    "from gt_design import *"
   ]
  },
  {
   "cell_type": "code",
   "execution_count": 42,
   "metadata": {},
   "outputs": [],
   "source": [
    "data_efficiency = pd.read_csv(r'_outputs\\_long_sim\\output_data_efficiency.csv')\n",
    "data_root_hub = pd.read_csv(r'_outputs\\_long_sim\\output_data_root_hub.csv')\n",
    "data_off_design = pd.read_csv(r'_outputs\\_long_sim\\output_data_off_design.csv')\n",
    "data_meanline = pd.read_csv(r'_outputs\\_long_sim\\output_data_meanline.csv')\n",
    "data_meanline_losses = pd.read_csv(r'_outputs\\_long_sim\\output_data_meanline_losses.csv')\n",
    "\n",
    "data_efficiency['delta_eta_optimize_normalized'] = (data_efficiency['delta_eta_optimize'] - data_efficiency['delta_eta_optimize'].min()) / (data_efficiency['delta_eta_optimize'].max() - data_efficiency['delta_eta_optimize'].min())\n",
    "data_meanline_losses['N_rotor_normalized'] = (data_meanline_losses['N_rotor'] - data_meanline_losses['N_rotor'].min()) / (data_meanline_losses['N_rotor'].max() - data_meanline_losses['N_rotor'].min())\n",
    "data_meanline['AN_squared_normalized'] = (data_meanline['AN_squared'] - data_meanline['AN_squared'].min()) / (data_meanline['AN_squared'].max() - data_meanline['AN_squared'].min())\n",
    "data_efficiency['eta_opt'] = 1/data_efficiency['eta_final']\n",
    "data_efficiency['eta_opt_normalized'] = (data_efficiency['eta_opt'] - data_efficiency['eta_opt'].min()) / (data_efficiency['eta_opt'].max() - data_efficiency['eta_opt'].min())\n",
    "\n",
    "# OPTIMIZATION FUNCTION\n",
    "#                                   EFFICIENCY                                      UPFRONT COST                                        OFF DESIGN                                                  MAINTENANCE\n",
    "data_efficiency['func_optimize'] = 0.4 * (data_efficiency['eta_opt_normalized']) + 0.3 * (data_meanline_losses['N_rotor_normalized']) + 0.2 * (data_efficiency['delta_eta_optimize_normalized']) + 0.1 * data_meanline['AN_squared_normalized']"
   ]
  },
  {
   "cell_type": "code",
   "execution_count": 43,
   "metadata": {},
   "outputs": [
    {
     "data": {
      "text/plain": [
       "eta_tt                           90.233845\n",
       "eta_final                         0.885367\n",
       "eta_final_od                      0.869170\n",
       "eta_final_od_new                  0.872020\n",
       "eta_final_opt                     1.129475\n",
       "delta_eta_optimize                0.013347\n",
       "delta_eta_optimize_normalized     0.007192\n",
       "eta_opt                           1.129475\n",
       "eta_opt_normalized                0.109248\n",
       "func_optimize                     0.220138\n",
       "Name: 212999, dtype: float64"
      ]
     },
     "execution_count": 43,
     "metadata": {},
     "output_type": "execute_result"
    }
   ],
   "source": [
    "ind = data_efficiency['func_optimize'].idxmin()\n",
    "data_efficiency.iloc[ind]"
   ]
  },
  {
   "cell_type": "code",
   "execution_count": 44,
   "metadata": {},
   "outputs": [
    {
     "data": {
      "text/plain": [
       "reaction_hub        0.432210\n",
       "h                   0.021463\n",
       "r_tip               0.091891\n",
       "U_tip             408.644692\n",
       "r_hub               0.070428\n",
       "r_tip_stator        0.095038\n",
       "r_hub_stator        0.067281\n",
       "h_vane_mean         0.027757\n",
       "alpha_2_hub        68.794512\n",
       "alpha_3_hub        28.251897\n",
       "beta_2_hub         47.184652\n",
       "beta_3_hub         57.201736\n",
       "U_hub             313.196907\n",
       "V_2_hub           307.609044\n",
       "C_2_hub           577.978245\n",
       "M_2_rel_hub         0.473185\n",
       "M_2_hub             0.889085\n",
       "reaction_hub.1      0.432210\n",
       "alpha_2_tip        63.150363\n",
       "alpha_3_tip        22.384291\n",
       "beta_2_tip          1.189192\n",
       "beta_3_tip         60.048478\n",
       "U_tip.1           408.644692\n",
       "V_2_tip           209.107782\n",
       "C_2_tip           462.885959\n",
       "M_2_rel_tip         0.317210\n",
       "M_2_tip             0.702183\n",
       "Name: 212999, dtype: float64"
      ]
     },
     "execution_count": 44,
     "metadata": {},
     "output_type": "execute_result"
    }
   ],
   "source": [
    "data_root_hub.iloc[ind]"
   ]
  },
  {
   "cell_type": "code",
   "execution_count": 45,
   "metadata": {},
   "outputs": [
    {
     "data": {
      "text/plain": [
       "T_3_od                995.677810\n",
       "rho_3_od                1.467235\n",
       "P_3_od                419.276270\n",
       "alpha_3_od             30.720649\n",
       "beta_2_od              34.328232\n",
       "flow_coeff_2_od         0.643609\n",
       "incidence_2             7.295808\n",
       "incidence_off           3.295808\n",
       "v_2_od                253.157604\n",
       "C_w_3_od              185.411297\n",
       "C_a_3_od              312.012012\n",
       "U_mean_od             324.828720\n",
       "flow_coeff_3_od         0.960543\n",
       "work_od_cw         212114.437944\n",
       "work_od_vw         212114.437944\n",
       "M_2_rel_od              0.384032\n",
       "M_3_rel_od              0.968920\n",
       "Name: 212999, dtype: float64"
      ]
     },
     "execution_count": 45,
     "metadata": {},
     "output_type": "execute_result"
    }
   ],
   "source": [
    "data_off_design.iloc[ind]"
   ]
  },
  {
   "cell_type": "code",
   "execution_count": 46,
   "metadata": {},
   "outputs": [
    {
     "data": {
      "text/plain": [
       "stage_loading            3.388889e+00\n",
       "reaction_meanline        5.555556e-01\n",
       "flow_coefficient_2       5.792483e-01\n",
       "flow_coefficient_3       8.554217e-01\n",
       "omega                    4.447062e+03\n",
       "AN_squared               1.973788e+07\n",
       "T_01                     1.245320e+03\n",
       "T_1                      1.242085e+03\n",
       "P_01                     1.182073e+03\n",
       "P_1                      1.169840e+03\n",
       "rho_1                    3.281655e+00\n",
       "T_02                     1.249871e+03\n",
       "T_2                      1.135607e+03\n",
       "P_02                     1.041087e+03\n",
       "P_02_rel                 7.713615e+02\n",
       "P_2                      7.094773e+02\n",
       "rho_2                    2.176851e+00\n",
       "T_03                     1.053051e+03\n",
       "T_3                      1.002508e+03\n",
       "P_03                     5.245940e+02\n",
       "P_03_rel                 7.593224e+02\n",
       "P_3                      4.309006e+02\n",
       "rho_3                    1.497639e+00\n",
       "A_1                      1.736358e-02\n",
       "A_2                      1.094488e-02\n",
       "A_3                      1.094488e-02\n",
       "M_1                      1.250000e-01\n",
       "C_1                      8.617782e+01\n",
       "C_a_1                    8.486859e+01\n",
       "C_w_1                    1.496462e+01\n",
       "dummy                   -1.000000e+01\n",
       "M_2                      7.769926e-01\n",
       "C_2                      5.122013e+02\n",
       "C_a_2                    2.090627e+02\n",
       "C_w_2                    4.675927e+02\n",
       "alpha_2                  6.591037e+01\n",
       "M_2_rel                  3.560388e-01\n",
       "V_2                      2.347043e+02\n",
       "V_w_2                    1.066719e+02\n",
       "beta_2m                  2.703242e+01\n",
       "U                        3.609208e+02\n",
       "i                        5.500000e-01\n",
       "C_3                      3.406563e+02\n",
       "C_a_3                    3.087395e+02\n",
       "C_w_3                    1.439676e+02\n",
       "k                        2.500000e+01\n",
       "M_3_rel                  9.554861e-01\n",
       "V_3                      5.918043e+02\n",
       "V_w_3                    5.048884e+02\n",
       "beta_3m                  5.855419e+01\n",
       "AN_squared_normalized    5.000000e-01\n",
       "Name: 212999, dtype: float64"
      ]
     },
     "execution_count": 46,
     "metadata": {},
     "output_type": "execute_result"
    }
   ],
   "source": [
    "data_meanline.iloc[ind]"
   ]
  },
  {
   "cell_type": "code",
   "execution_count": 47,
   "metadata": {},
   "outputs": [
    {
     "data": {
      "text/plain": [
       "c_true_stator            0.055513\n",
       "c_a_stator               0.013430\n",
       "stagger_angle_stator    51.022221\n",
       "K_p_stator               0.025769\n",
       "K_s_stator               0.094547\n",
       "K_TET_stator             0.007875\n",
       "K_stator                 0.128191\n",
       "c_true_rotor             0.016510\n",
       "c_a_rotor                0.014658\n",
       "stagger_angle_rotor     27.401617\n",
       "K_p_rotor                0.027228\n",
       "K_s_rotor                0.075740\n",
       "K_TET_rotor              0.006343\n",
       "K_rotor                  0.109311\n",
       "pitch_stator            14.855206\n",
       "zweifel_stator           0.900000\n",
       "N_stator                28.000000\n",
       "pitch_rotor             43.741316\n",
       "zweifel_rotor            0.950000\n",
       "N_rotor                 42.000000\n",
       "N_rotor_normalized       0.416667\n",
       "Name: 212999, dtype: float64"
      ]
     },
     "execution_count": 47,
     "metadata": {},
     "output_type": "execute_result"
    }
   ],
   "source": [
    "data_meanline_losses.iloc[ind]"
   ]
  },
  {
   "cell_type": "code",
   "execution_count": 50,
   "metadata": {},
   "outputs": [
    {
     "name": "stdout",
     "output_type": "stream",
     "text": [
      "38.23725852273384\n"
     ]
    }
   ],
   "source": [
    "stag_1 = aerodynamic_losses.profile_losses.figure_2_5(1.189192, 60.048478)\n",
    "print(stag_1)"
   ]
  },
  {
   "cell_type": "code",
   "execution_count": null,
   "metadata": {},
   "outputs": [],
   "source": [
    "c_true, c_a, N, o = aerodynamic_losses.trailing_edge_losses_rotor.required_vals(0.021463, 27.4016, 0.0811595, pitch_axial_chord_ratio,58.55)"
   ]
  }
 ],
 "metadata": {
  "kernelspec": {
   "display_name": "base",
   "language": "python",
   "name": "python3"
  },
  "language_info": {
   "codemirror_mode": {
    "name": "ipython",
    "version": 3
   },
   "file_extension": ".py",
   "mimetype": "text/x-python",
   "name": "python",
   "nbconvert_exporter": "python",
   "pygments_lexer": "ipython3",
   "version": "3.11.5"
  }
 },
 "nbformat": 4,
 "nbformat_minor": 2
}
