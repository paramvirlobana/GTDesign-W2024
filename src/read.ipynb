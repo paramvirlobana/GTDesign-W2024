{
 "cells": [
  {
   "cell_type": "code",
   "execution_count": 11,
   "metadata": {},
   "outputs": [],
   "source": [
    "import numpy\n",
    "import numpy as np\n",
    "import math\n",
    "import pandas as pd\n",
    "from scipy.optimize import minimize\n",
    "import itertools\n",
    "from gt_design import *"
   ]
  },
  {
   "cell_type": "markdown",
   "metadata": {},
   "source": [
    "Import all the data"
   ]
  },
  {
   "cell_type": "code",
   "execution_count": 12,
   "metadata": {},
   "outputs": [],
   "source": [
    "data_efficiency = pd.read_csv(r'_outputs\\output_data_efficiency.csv')\n",
    "data_root_hub = pd.read_csv(r'_outputs\\output_data_root_hub.csv')\n",
    "data_off_design = pd.read_csv(r'_outputs\\output_data_off_design.csv')\n",
    "data_meanline = pd.read_csv(r'_outputs\\output_data_meanline.csv')\n",
    "data_meanline_losses = pd.read_csv(r'_outputs\\output_data_meanline_losses.csv')\n",
    "data_scratch = pd.read_csv(r'_outputs\\output_data_scratch.csv')"
   ]
  },
  {
   "cell_type": "markdown",
   "metadata": {},
   "source": [
    "Optimization"
   ]
  },
  {
   "cell_type": "code",
   "execution_count": 13,
   "metadata": {},
   "outputs": [],
   "source": [
    "data_efficiency['delta_eta_optimize_normalized'] = (data_efficiency['delta_eta_optimize'] - data_efficiency['delta_eta_optimize'].min()) / (data_efficiency['delta_eta_optimize'].max() - data_efficiency['delta_eta_optimize'].min())\n",
    "data_meanline_losses['N_rotor_normalized'] = (data_meanline_losses['N_rotor'] - data_meanline_losses['N_rotor'].min()) / (data_meanline_losses['N_rotor'].max() - data_meanline_losses['N_rotor'].min())\n",
    "data_meanline['AN_squared_normalized'] = (data_meanline['AN_squared'] - data_meanline['AN_squared'].min()) / (data_meanline['AN_squared'].max() - data_meanline['AN_squared'].min())\n",
    "data_efficiency['eta_opt'] = 1/data_efficiency['eta_final']\n",
    "data_efficiency['eta_opt_normalized'] = (data_efficiency['eta_opt'] - data_efficiency['eta_opt'].min()) / (data_efficiency['eta_opt'].max() - data_efficiency['eta_opt'].min())"
   ]
  },
  {
   "cell_type": "code",
   "execution_count": 14,
   "metadata": {},
   "outputs": [],
   "source": [
    "# OPTIMIZATION FUNCTION\n",
    "data_efficiency['func_optimize'] = 0.4 * (data_efficiency['eta_opt_normalized']) + 0.3 * (data_meanline_losses['N_rotor_normalized']) + 0.2 * (data_efficiency['delta_eta_optimize_normalized']) + 0.1 * data_meanline['AN_squared_normalized']"
   ]
  },
  {
   "cell_type": "markdown",
   "metadata": {},
   "source": [
    "Print Results"
   ]
  },
  {
   "cell_type": "code",
   "execution_count": 15,
   "metadata": {},
   "outputs": [
    {
     "data": {
      "text/plain": [
       "eta_tt                           90.071521\n",
       "eta_final                         0.885070\n",
       "eta_final_od                      0.868179\n",
       "eta_final_od_new                  0.870588\n",
       "eta_final_opt                     1.129855\n",
       "delta_eta_optimize                0.014482\n",
       "delta_eta_optimize_normalized     0.000000\n",
       "eta_opt                           1.129855\n",
       "eta_opt_normalized                0.000000\n",
       "func_optimize                     0.100000\n",
       "Name: 29, dtype: float64"
      ]
     },
     "execution_count": 15,
     "metadata": {},
     "output_type": "execute_result"
    }
   ],
   "source": [
    "ind = data_efficiency['func_optimize'].idxmin()\n",
    "data_efficiency.iloc[ind]"
   ]
  },
  {
   "cell_type": "code",
   "execution_count": 16,
   "metadata": {},
   "outputs": [
    {
     "data": {
      "text/plain": [
       "reaction_hub        0.276178\n",
       "h                   0.024895\n",
       "r_tip               0.097037\n",
       "U_tip             419.790194\n",
       "r_hub               0.072143\n",
       "r_tip_stator        0.098981\n",
       "r_hub_stator        0.070199\n",
       "h_vane_mean         0.028782\n",
       "alpha_2_hub        72.268655\n",
       "alpha_3_hub        23.111286\n",
       "beta_2_hub         54.621336\n",
       "beta_3_hub         58.309439\n",
       "U_hub             312.093966\n",
       "V_2_hub           313.532342\n",
       "C_2_hub           596.045650\n",
       "M_2_rel_hub         0.489705\n",
       "M_2_hub             0.930962\n",
       "reaction_hub.1      0.276178\n",
       "alpha_2_tip        66.728449\n",
       "alpha_3_tip        17.603315\n",
       "beta_2_tip          0.722859\n",
       "beta_3_tip         62.511359\n",
       "U_tip.1           419.790194\n",
       "V_2_tip           181.542650\n",
       "C_2_tip           459.461052\n",
       "M_2_rel_tip         0.276832\n",
       "M_2_tip             0.700627\n",
       "M_3_rel_tip         0.912392\n",
       "Name: 29, dtype: float64"
      ]
     },
     "execution_count": 16,
     "metadata": {},
     "output_type": "execute_result"
    }
   ],
   "source": [
    "data_root_hub.iloc[ind]"
   ]
  },
  {
   "cell_type": "code",
   "execution_count": 17,
   "metadata": {},
   "outputs": [
    {
     "data": {
      "text/plain": [
       "T_3_od               1002.591396\n",
       "rho_3_od                1.431704\n",
       "P_3_od                411.963916\n",
       "alpha_3_od             27.379658\n",
       "beta_2_od              40.463803\n",
       "flow_coeff_2_od         0.551175\n",
       "incidence_2             7.383621\n",
       "incidence_off           3.383621\n",
       "v_2_od                238.596685\n",
       "C_w_3_od              137.018101\n",
       "C_a_3_od              264.564565\n",
       "U_mean_od             329.347872\n",
       "flow_coeff_3_od         0.803298\n",
       "work_od_cw         204593.359252\n",
       "work_od_vw         204593.359252\n",
       "M_2_rel_od              0.363833\n",
       "M_3_rel_od              0.865647\n",
       "Name: 29, dtype: float64"
      ]
     },
     "execution_count": 17,
     "metadata": {},
     "output_type": "execute_result"
    }
   ],
   "source": [
    "data_off_design.iloc[ind]"
   ]
  },
  {
   "cell_type": "code",
   "execution_count": 18,
   "metadata": {},
   "outputs": [
    {
     "data": {
      "text/plain": [
       "stage_loading            3.166667e+00\n",
       "reaction_meanline        5.110947e-01\n",
       "flow_coefficient_2       4.960572e-01\n",
       "flow_coefficient_3       7.148996e-01\n",
       "omega                    4.326069e+03\n",
       "AN_squared               2.258060e+07\n",
       "T_01                     1.245321e+03\n",
       "T_1                      1.242086e+03\n",
       "P_01                     1.182074e+03\n",
       "P_1                      1.169840e+03\n",
       "rho_1                    3.281655e+00\n",
       "T_02                     1.225948e+03\n",
       "T_2                      1.123840e+03\n",
       "P_02                     9.922975e+02\n",
       "P_02_rel                 7.188982e+02\n",
       "P_2                      6.688874e+02\n",
       "rho_2                    2.073799e+00\n",
       "T_03                     1.041254e+03\n",
       "T_3                      1.000227e+03\n",
       "P_03                     4.792805e+02\n",
       "P_03_rel                 6.660846e+02\n",
       "P_3                      4.196893e+02\n",
       "rho_3                    1.462000e+00\n",
       "A_1                      1.736358e-02\n",
       "A_2                      1.323140e-02\n",
       "A_3                      1.323140e-02\n",
       "M_1                      1.250000e-01\n",
       "C_1                      8.617785e+01\n",
       "C_a_1                    8.486862e+01\n",
       "C_w_1                    1.496463e+01\n",
       "dummy                   -1.000000e+01\n",
       "M_2                      7.885188e-01\n",
       "C_2                      5.170994e+02\n",
       "C_a_2                    1.815282e+02\n",
       "C_w_2                    4.841894e+02\n",
       "alpha_2                  6.944840e+01\n",
       "M_2_rel                  3.303589e-01\n",
       "V_2                      2.166447e+02\n",
       "V_w_2                    1.182473e+02\n",
       "beta_2m                  3.308018e+01\n",
       "U                        3.659421e+02\n",
       "i                        4.500000e-01\n",
       "C_3                      2.784015e+02\n",
       "C_a_3                    2.616118e+02\n",
       "C_w_3                    9.521892e+01\n",
       "k                        2.000000e+01\n",
       "M_3_rel                  8.569969e-01\n",
       "V_3                      5.301983e+02\n",
       "V_w_3                    4.611610e+02\n",
       "beta_3m                  6.043421e+01\n",
       "work_Part_A              2.342692e+05\n",
       "work_check_cw            2.120299e+05\n",
       "work_check_vw            2.120299e+05\n",
       "AN_squared_normalized    1.000000e+00\n",
       "Name: 29, dtype: float64"
      ]
     },
     "execution_count": 18,
     "metadata": {},
     "output_type": "execute_result"
    }
   ],
   "source": [
    "data_meanline.iloc[ind]"
   ]
  },
  {
   "cell_type": "code",
   "execution_count": 19,
   "metadata": {},
   "outputs": [
    {
     "data": {
      "text/plain": [
       "c_true_stator             0.057564\n",
       "c_a_stator                0.031761\n",
       "stagger_angle_stator     56.513212\n",
       "K_p_stator                0.029526\n",
       "K_s_stator                0.097613\n",
       "K_TET_stator              0.008391\n",
       "K_stator                  0.135529\n",
       "c_true_rotor              0.019150\n",
       "c_a_rotor                 0.016857\n",
       "stagger_angle_rotor      28.326373\n",
       "K_p_rotor                 0.034723\n",
       "K_s_rotor                 0.086499\n",
       "K_TET_rotor               0.016696\n",
       "K_rotor                   0.137918\n",
       "pitch_stator              0.043971\n",
       "zweifel_stator            0.850000\n",
       "N_stator                 12.000000\n",
       "pitch_rotor               0.012906\n",
       "zweifel_rotor             0.900000\n",
       "N_rotor                  41.000000\n",
       "throat_opening_stator     0.015436\n",
       "throat_opening_rotor      0.006368\n",
       "N_rotor_normalized        0.000000\n",
       "Name: 29, dtype: float64"
      ]
     },
     "execution_count": 19,
     "metadata": {},
     "output_type": "execute_result"
    }
   ],
   "source": [
    "data_meanline_losses.iloc[ind]"
   ]
  },
  {
   "cell_type": "code",
   "execution_count": 20,
   "metadata": {},
   "outputs": [
    {
     "data": {
      "text/plain": [
       "zweifel_stator_NEW    0.856182\n",
       "zweifel_rotor_NEW     0.904016\n",
       "Name: 29, dtype: float64"
      ]
     },
     "execution_count": 20,
     "metadata": {},
     "output_type": "execute_result"
    }
   ],
   "source": [
    "data_scratch.iloc[ind]"
   ]
  }
 ],
 "metadata": {
  "kernelspec": {
   "display_name": "base",
   "language": "python",
   "name": "python3"
  },
  "language_info": {
   "codemirror_mode": {
    "name": "ipython",
    "version": 3
   },
   "file_extension": ".py",
   "mimetype": "text/x-python",
   "name": "python",
   "nbconvert_exporter": "python",
   "pygments_lexer": "ipython3",
   "version": "3.11.3"
  }
 },
 "nbformat": 4,
 "nbformat_minor": 2
}
