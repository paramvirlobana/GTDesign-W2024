{
 "cells": [
  {
   "cell_type": "code",
   "execution_count": 1,
   "metadata": {},
   "outputs": [],
   "source": [
    "import numpy\n",
    "import numpy as np\n",
    "import math\n",
    "import pandas as pd\n",
    "from scipy.optimize import minimize\n",
    "import itertools\n",
    "from gt_design import *"
   ]
  },
  {
   "cell_type": "code",
   "execution_count": 2,
   "metadata": {},
   "outputs": [],
   "source": [
    "data_efficiency = pd.read_csv(r'_outputs\\output_data_efficiency.csv')\n",
    "data_root_hub = pd.read_csv(r'_outputs\\output_data_root_hub.csv')\n",
    "data_off_design = pd.read_csv(r'_outputs\\output_data_off_design.csv')\n",
    "data_meanline = pd.read_csv(r'_outputs\\output_data_meanline.csv')\n",
    "data_meanline_losses = pd.read_csv(r'_outputs\\output_data_meanline_losses.csv')\n",
    "\n",
    "data_efficiency['delta_eta_optimize_normalized'] = (data_efficiency['delta_eta_optimize'] - data_efficiency['delta_eta_optimize'].min()) / (data_efficiency['delta_eta_optimize'].max() - data_efficiency['delta_eta_optimize'].min())\n",
    "data_meanline_losses['N_rotor_normalized'] = (data_meanline_losses['N_rotor'] - data_meanline_losses['N_rotor'].min()) / (data_meanline_losses['N_rotor'].max() - data_meanline_losses['N_rotor'].min())\n",
    "data_meanline['AN_squared_normalized'] = (data_meanline['AN_squared'] - data_meanline['AN_squared'].min()) / (data_meanline['AN_squared'].max() - data_meanline['AN_squared'].min())\n",
    "data_efficiency['eta_opt'] = 1/data_efficiency['eta_final']\n",
    "data_efficiency['eta_opt_normalized'] = (data_efficiency['eta_opt'] - data_efficiency['eta_opt'].min()) / (data_efficiency['eta_opt'].max() - data_efficiency['eta_opt'].min())"
   ]
  },
  {
   "cell_type": "code",
   "execution_count": null,
   "metadata": {},
   "outputs": [],
   "source": [
    "# OPTIMIZATION FUNCTION\n",
    "#                                   EFFICIENCY                                      UPFRONT COST                                        OFF DESIGN                                                  MAINTENANCE\n",
    "data_efficiency['func_optimize'] = 0.4 * (data_efficiency['eta_opt_normalized']) + 0.3 * (data_meanline_losses['N_rotor_normalized']) + 0.2 * (data_efficiency['delta_eta_optimize_normalized']) + 0.1 * data_meanline['AN_squared_normalized']"
   ]
  },
  {
   "cell_type": "code",
   "execution_count": 3,
   "metadata": {},
   "outputs": [
    {
     "data": {
      "text/plain": [
       "eta_tt                           91.206558\n",
       "eta_final                         0.894752\n",
       "eta_final_od                      0.879946\n",
       "eta_final_od_new                  0.882046\n",
       "eta_final_opt                     1.117628\n",
       "delta_eta_optimize                0.012706\n",
       "delta_eta_optimize_normalized     0.017750\n",
       "eta_opt                           1.117628\n",
       "eta_opt_normalized                0.099317\n",
       "func_optimize                     0.205701\n",
       "Name: 1599, dtype: float64"
      ]
     },
     "execution_count": 3,
     "metadata": {},
     "output_type": "execute_result"
    }
   ],
   "source": [
    "ind = data_efficiency['func_optimize'].idxmin()\n",
    "data_efficiency.iloc[ind]"
   ]
  },
  {
   "cell_type": "code",
   "execution_count": 4,
   "metadata": {},
   "outputs": [
    {
     "data": {
      "text/plain": [
       "reaction_hub        0.348885\n",
       "h                   0.023556\n",
       "r_tip               0.103685\n",
       "U_tip             412.837306\n",
       "r_hub               0.080129\n",
       "r_tip_stator        0.105313\n",
       "r_hub_stator        0.078501\n",
       "h_vane_mean         0.026812\n",
       "alpha_2_hub        72.066460\n",
       "alpha_3_hub        26.974201\n",
       "beta_2_hub         51.282532\n",
       "beta_3_hub         60.433422\n",
       "U_hub             319.046855\n",
       "V_2_hub           276.850315\n",
       "C_2_hub           562.380095\n",
       "M_2_rel_hub         0.429023\n",
       "M_2_hub             0.871497\n",
       "reaction_hub.1      0.348885\n",
       "alpha_2_tip        67.277145\n",
       "alpha_3_tip        21.471236\n",
       "beta_2_tip          0.219155\n",
       "beta_3_tip         63.613177\n",
       "U_tip.1           412.837306\n",
       "V_2_tip           173.165758\n",
       "C_2_tip           448.294444\n",
       "M_2_rel_tip         0.263201\n",
       "M_2_tip             0.681380\n",
       "M_3_rel_tip         0.921620\n",
       "Name: 1599, dtype: float64"
      ]
     },
     "execution_count": 4,
     "metadata": {},
     "output_type": "execute_result"
    }
   ],
   "source": [
    "data_root_hub.iloc[ind]"
   ]
  },
  {
   "cell_type": "code",
   "execution_count": 5,
   "metadata": {},
   "outputs": [
    {
     "data": {
      "text/plain": [
       "T_3_od               1001.518398\n",
       "rho_3_od                1.427112\n",
       "P_3_od                410.203156\n",
       "alpha_3_od             31.237096\n",
       "beta_2_od              38.378249\n",
       "flow_coeff_2_od         0.525780\n",
       "incidence_2             8.236826\n",
       "incidence_off           4.236826\n",
       "v_2_od                220.893022\n",
       "C_w_3_od              156.635390\n",
       "C_a_3_od              258.258258\n",
       "U_mean_od             329.347872\n",
       "flow_coeff_3_od         0.784150\n",
       "work_od_cw         205224.809051\n",
       "work_od_vw         205224.809051\n",
       "M_2_rel_od              0.335744\n",
       "M_3_rel_od              0.888984\n",
       "Name: 1599, dtype: float64"
      ]
     },
     "execution_count": 5,
     "metadata": {},
     "output_type": "execute_result"
    }
   ],
   "source": [
    "data_off_design.iloc[ind]"
   ]
  },
  {
   "cell_type": "code",
   "execution_count": 6,
   "metadata": {},
   "outputs": [
    {
     "data": {
      "text/plain": [
       "stage_loading            3.166667e+00\n",
       "reaction_meanline        5.414016e-01\n",
       "flow_coefficient_2       4.732019e-01\n",
       "flow_coefficient_3       6.953926e-01\n",
       "omega                    3.981668e+03\n",
       "AN_squared               1.966498e+07\n",
       "T_01                     1.245321e+03\n",
       "T_1                      1.242086e+03\n",
       "P_01                     1.182074e+03\n",
       "P_1                      1.169840e+03\n",
       "rho_1                    3.281655e+00\n",
       "T_02                     1.225949e+03\n",
       "T_2                      1.131170e+03\n",
       "P_02                     9.881730e+02\n",
       "P_02_rel                 7.298956e+02\n",
       "P_2                      6.865097e+02\n",
       "rho_2                    2.114642e+00\n",
       "T_03                     1.041254e+03\n",
       "T_3                      1.000227e+03\n",
       "P_03                     4.792805e+02\n",
       "P_03_rel                 6.795760e+02\n",
       "P_3                      4.196893e+02\n",
       "rho_3                    1.462000e+00\n",
       "A_1                      1.736358e-02\n",
       "A_2                      1.360256e-02\n",
       "A_3                      1.360256e-02\n",
       "M_1                      1.250000e-01\n",
       "C_1                      8.617785e+01\n",
       "C_a_1                    8.486862e+01\n",
       "C_w_1                    1.496463e+01\n",
       "dummy                   -1.000000e+01\n",
       "M_2                      7.563104e-01\n",
       "C_2                      4.975925e+02\n",
       "C_a_2                    1.731645e+02\n",
       "C_w_2                    4.664894e+02\n",
       "alpha_2                  6.963468e+01\n",
       "M_2_rel                  3.043513e-01\n",
       "V_2                      2.002391e+02\n",
       "V_w_2                    1.005473e+02\n",
       "beta_2m                  3.014142e+01\n",
       "U                        3.659421e+02\n",
       "i                        4.500000e-01\n",
       "C_3                      2.784015e+02\n",
       "C_a_3                    2.544734e+02\n",
       "C_w_3                    1.129189e+02\n",
       "k                        2.392857e+01\n",
       "M_3_rel                  8.765209e-01\n",
       "V_3                      5.422772e+02\n",
       "V_w_3                    4.788610e+02\n",
       "beta_3m                  6.201320e+01\n",
       "work_Part_A              2.342692e+05\n",
       "work_check_cw            2.120299e+05\n",
       "work_check_vw            2.120299e+05\n",
       "AN_squared_normalized    5.333333e-01\n",
       "Name: 1599, dtype: float64"
      ]
     },
     "execution_count": 6,
     "metadata": {},
     "output_type": "execute_result"
    }
   ],
   "source": [
    "data_meanline.iloc[ind]"
   ]
  },
  {
   "cell_type": "code",
   "execution_count": 7,
   "metadata": {},
   "outputs": [
    {
     "data": {
      "text/plain": [
       "c_true_stator             0.053624\n",
       "c_a_stator                0.029361\n",
       "stagger_angle_stator     56.802324\n",
       "K_p_stator                0.028647\n",
       "K_s_stator                0.097531\n",
       "K_TET_stator              0.001212\n",
       "K_stator                  0.127389\n",
       "c_true_rotor              0.018120\n",
       "c_a_rotor                 0.015409\n",
       "stagger_angle_rotor      31.745414\n",
       "K_p_rotor                 0.031182\n",
       "K_s_rotor                 0.079217\n",
       "K_TET_rotor               0.004476\n",
       "K_rotor                   0.114875\n",
       "pitch_stator             15.069756\n",
       "zweifel_stator            0.900000\n",
       "N_stator                 13.000000\n",
       "pitch_rotor              41.111168\n",
       "zweifel_rotor             0.950000\n",
       "N_rotor                  42.000000\n",
       "throat_opening_stator     0.040625\n",
       "throat_opening_rotor      0.011919\n",
       "N_rotor_normalized        0.363636\n",
       "Name: 1599, dtype: float64"
      ]
     },
     "execution_count": 7,
     "metadata": {},
     "output_type": "execute_result"
    }
   ],
   "source": [
    "data_meanline_losses.iloc[ind]"
   ]
  }
 ],
 "metadata": {
  "kernelspec": {
   "display_name": "base",
   "language": "python",
   "name": "python3"
  },
  "language_info": {
   "codemirror_mode": {
    "name": "ipython",
    "version": 3
   },
   "file_extension": ".py",
   "mimetype": "text/x-python",
   "name": "python",
   "nbconvert_exporter": "python",
   "pygments_lexer": "ipython3",
   "version": "3.11.5"
  }
 },
 "nbformat": 4,
 "nbformat_minor": 2
}
