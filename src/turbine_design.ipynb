{
 "cells": [
  {
   "cell_type": "code",
   "execution_count": 41,
   "metadata": {},
   "outputs": [],
   "source": [
    "import math\n",
    "import numpy\n",
    "from ambiance import Atmosphere"
   ]
  },
  {
   "cell_type": "markdown",
   "metadata": {},
   "source": [
    "## Inputs"
   ]
  },
  {
   "cell_type": "code",
   "execution_count": 42,
   "metadata": {},
   "outputs": [],
   "source": [
    "# Air Properties\n",
    "gamma_air = 1.4\n",
    "gamma_g = 1.33333\n",
    "c_p_air = 1.005\n",
    "c_p_gas = 1.148\n",
    "#-------------------------------------------------\n",
    "Zweifel_vane = 0.825 #0.75 < Zweif < 0.9\n",
    "Zweifel_blade = 0.875 #0.8 < Zweif < 0.95\n",
    "inlet_swirl = -10 #degrees\n",
    "gamma = 1.3333\n",
    "\n",
    "R = 287\n",
    "m_dot_inlet = 4.835\n",
    "m_dot_vane_cooled = m_dot_inlet + 0.145\n",
    "\n",
    "Mach_inlet = 0.125\n",
    "Mach_exit = 0.425 #0.3 < Mach < 0.55\n",
    "\n",
    "blade_aspect_ratio = 1.3 #given in outline\n",
    "vane_aspect_ratio = 0.5 #given in outline\n",
    "\n",
    "T_1_stag = 1245 #kelvin\n",
    "T_2_stag = 0\n",
    "T_3_stag = 1036.3 #kelvin assumed pre-cooling\n",
    "\n",
    "T_3_static = T_3_stag/(1+(gamma-1)/2*Mach_exit**2)\n",
    "T_1_static = T_1_stag/(1+(gamma-1)/2*Mach_inlet**2)\n",
    "\n"
   ]
  },
  {
   "cell_type": "markdown",
   "metadata": {},
   "source": [
    "## Design Choices"
   ]
  },
  {
   "cell_type": "code",
   "execution_count": 43,
   "metadata": {},
   "outputs": [],
   "source": [
    "M_e = 0.425\n",
    "R_range = numpy.linspace(0.2, 0.5, 10)      # Define the range of values"
   ]
  },
  {
   "cell_type": "markdown",
   "metadata": {},
   "source": [
    "## Functions"
   ]
  },
  {
   "cell_type": "code",
   "execution_count": 44,
   "metadata": {},
   "outputs": [],
   "source": [
    "def calc_static_temp(T_stag, M):\n",
    "    T_static = T_stag / (1 + M**2 * ((gamma_g - 1)/2))\n",
    "    return T_static\n",
    "\n",
    "def calc_velocity(T_static, M):\n",
    "    velocity = M * math.sqrt(gamma_g * 287 * T_static)\n",
    "    return velocity\n",
    "\n",
    "def calc_static_pressure(P_stag, T_static, T_stag):\n",
    "    P_static = P_stag * (T_static/T_stag)**(gamma_g/(gamma_g - 1))\n",
    "    return P_static\n",
    "\n",
    "def calc_rho(P_static, T_static):\n",
    "    rho = P_static * 1000/(287 * T_static)\n",
    "    return rho"
   ]
  },
  {
   "cell_type": "markdown",
   "metadata": {},
   "source": [
    "## Calculations"
   ]
  },
  {
   "cell_type": "code",
   "execution_count": 47,
   "metadata": {},
   "outputs": [
    {
     "name": "stdout",
     "output_type": "stream",
     "text": [
      "The result for 0.2 is 1078.04\n",
      "The result for 0.23333333333333334 is 1084.9966666666667\n",
      "The result for 0.26666666666666666 is 1091.9533333333334\n",
      "The result for 0.30000000000000004 is 1098.91\n",
      "The result for 0.33333333333333337 is 1105.8666666666666\n",
      "The result for 0.3666666666666667 is 1112.8233333333333\n",
      "The result for 0.4 is 1119.78\n",
      "The result for 0.43333333333333335 is 1126.7366666666667\n",
      "The result for 0.4666666666666667 is 1133.6933333333334\n",
      "The result for 0.5 is 1140.65\n",
      "3.282498482551844\n",
      "1169.8395186776931\n",
      "1.6948352697199733\n",
      "496.6253795339004\n",
      "0.017358043398703095\n",
      "0.0172869382408466\n",
      "velocity at exit 169.97449876930264\n"
     ]
    },
    {
     "data": {
      "text/plain": [
       "'\\nprint(T_1_static)\\nprint(T_2_static)\\nprint(T_3_static)\\n'"
      ]
     },
     "execution_count": 47,
     "metadata": {},
     "output_type": "execute_result"
    }
   ],
   "source": [
    "for value in R_range:\n",
    "    T_2 = value * (T_1_stag - T_3_stag) + T_3_stag\n",
    "    print(f\"The result for {value} is {T_2}\")\n",
    "\n",
    "Reaction = 0.3\n",
    "T_2_static = Reaction*(T_1_static-T_3_static)+T_3_static\n",
    "\n",
    "T_4 = calc_static_temp(1245, 0.125)\n",
    "v_4 = calc_velocity(T_4, 0.125)\n",
    "\n",
    "P_4 = calc_static_pressure(1182.073, T_4, 1245)\n",
    "rho_4 = calc_rho(P_4, T_4)\n",
    "print(rho_4)\n",
    "\n",
    "print(P_4)\n",
    "\n",
    "\n",
    "\n",
    "T_5 = calc_static_temp(1036.3,0.3)\n",
    "v_5 = calc_velocity(T_5,0.3)\n",
    "\n",
    "P_5 = calc_static_pressure(527.1,T_5,1036.3)\n",
    "rho_5 = calc_rho(P_5,T_5)\n",
    "\n",
    "print(rho_5)\n",
    "print(P_5)\n",
    "\n",
    "v_4_axial = v_4*numpy.cos(math.radians(-10))\n",
    "v_5_axial = v_5*numpy.cos(0.436)\n",
    "\n",
    "\n",
    "A_inlet = m_dot_inlet/(rho_4*v_4_axial)\n",
    "print(A_inlet)\n",
    "\n",
    "\n",
    "A_exit = m_dot_vane_cooled/(rho_5*v_5_axial)\n",
    "print(A_exit)\n",
    "\n",
    "print(\"velocity at exit\", v_5_axial)\n",
    "#Given AN^2 = 3.5x10^10 in2 rpm2 -> 247624 m2 rad2/s2\n",
    "\"\"\"\n",
    "stage_loading = specific_work/U_mean^2\n",
    "flow_coefficient = C_axial/U #not sure which axial to use if we are chaning\n",
    "\n",
    "omega = math.sqrt(247624/A_exit) #using exit area -> assuming area constant across the rotor therefore A2 = A3\n",
    "#r_mean = U_mean/ omega\n",
    "\n",
    "\"\"\"\n",
    "\n",
    "\n",
    "\n",
    "\"\"\"\n",
    "print(T_1_static)\n",
    "print(T_2_static)\n",
    "print(T_3_static)\n",
    "\"\"\"\n",
    "\n"
   ]
  }
 ],
 "metadata": {
  "kernelspec": {
   "display_name": "Python 3",
   "language": "python",
   "name": "python3"
  },
  "language_info": {
   "codemirror_mode": {
    "name": "ipython",
    "version": 3
   },
   "file_extension": ".py",
   "mimetype": "text/x-python",
   "name": "python",
   "nbconvert_exporter": "python",
   "pygments_lexer": "ipython3",
   "version": "3.11.3"
  }
 },
 "nbformat": 4,
 "nbformat_minor": 2
}
